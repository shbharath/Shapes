{
 "cells": [
  {
   "cell_type": "code",
   "execution_count": 1,
   "metadata": {},
   "outputs": [],
   "source": [
    "import os, struct\n",
    "import matplotlib as plt\n",
    "from array import array as pyarray\n",
    "import pandas as pd\n",
    "from openpyxl import load_workbook\n",
    "from pylab import *\n",
    "import numpy as np"
   ]
  },
  {
   "cell_type": "code",
   "execution_count": 2,
   "metadata": {},
   "outputs": [],
   "source": [
    "def load_NMNIST(dataset=\"training\", digits=range(10), path=r'E:\\Users\\Shashi\\OneDrive\\Datasets\\Shapes'):\n",
    "    \n",
    "    if dataset == \"training\":\n",
    "        fname_img = os.path.join(path, 'Shapes_1_1_Train_Features.dat')\n",
    "        fname_lbl = os.path.join(path, 'Shapes_1_1_Train_Labels.dat')\n",
    "    elif dataset == \"testing\":\n",
    "        fname_img = os.path.join(path, 'Shapes_1_1_Test_Features.dat')\n",
    "        fname_lbl = os.path.join(path, 'Shapes_1_1_Test_Labels.dat')\n",
    "    else:\n",
    "        raise ValueError(\"dataset must be 'testing' or 'training'\")\n",
    "\n",
    "    flbl = open(fname_lbl, 'rb')\n",
    "    lbl = np.fromfile(flbl, dtype=np.uint8)\n",
    "    flbl.close()\n",
    "\n",
    "    fimg = open(fname_img, 'rb')\n",
    "    img = np.fromfile(fimg, dtype=np.uint8)\n",
    "    fimg.close()\n",
    "\n",
    "    size=len(lbl)\n",
    "\n",
    "    ind = [ k for k in range(size) if lbl[k] in digits ]\n",
    "    N = len(ind)\n",
    "\n",
    "    rows=28;cols=28;\n",
    "\n",
    "    images = zeros((N, rows, cols), dtype=uint8)\n",
    "    labels = zeros((N, 1), dtype=int8)\n",
    "    for i in range(len(ind)):\n",
    "        images[i] = array(img[ ind[i]*rows*cols : (ind[i]+1)*rows*cols ]).reshape((rows, cols))\n",
    "        labels[i] = lbl[ind[i]]\n",
    "    return images, labels"
   ]
  },
  {
   "cell_type": "code",
   "execution_count": 3,
   "metadata": {},
   "outputs": [],
   "source": [
    "def vectortoimg(v,show=True):\n",
    "    plt.imshow(v.reshape(28, 28),interpolation='None', cmap='gray')\n",
    "    plt.axis('off')\n",
    "    if show:\n",
    "        plt.show()"
   ]
  },
  {
   "cell_type": "code",
   "execution_count": 4,
   "metadata": {},
   "outputs": [
    {
     "name": "stderr",
     "output_type": "stream",
     "text": [
      "/usr/local/lib/python2.7/dist-packages/h5py/__init__.py:36: FutureWarning: Conversion of the second argument of issubdtype from `float` to `np.floating` is deprecated. In future, it will be treated as `np.float64 == np.dtype(float).type`.\n",
      "  from ._conv import register_converters as _register_converters\n",
      "Using TensorFlow backend.\n"
     ]
    }
   ],
   "source": [
    "import keras"
   ]
  },
  {
   "cell_type": "code",
   "execution_count": 5,
   "metadata": {},
   "outputs": [
    {
     "data": {
      "image/png": "[encoded data removed]",
      "text/plain": [
       "<matplotlib.figure.Figure at 0x7fd1732e1810>"
      ]
     },
     "metadata": {},
     "output_type": "display_data"
    }
   ],
   "source": [
    "path= os.path.join(os.path.curdir, 'data')\n",
    "images, labels = load_NMNIST('training', digits=[0,1,2], path=path)\n",
    "\n",
    "flatimages = list()\n",
    "for i in images:\n",
    "    flatimages.append(i.ravel())\n",
    "x_train = asarray(flatimages) # X now contains 60000 feature vectors, each of dimension 784\n",
    "y_train=labels # T contains class labels with 0->Triangle, 1->Square, 2->Pizza\n",
    "vectortoimg(x_train[1])"
   ]
  },
  {
   "cell_type": "markdown",
   "metadata": {},
   "source": [
    "print(\"Checking multiple training vectors by plotting images.\\nBe patient:\")\n",
    "plt.close('all')\n",
    "fig = plt.figure(figsize=(10,10))\n",
    "nrows=15\n",
    "ncols=15\n",
    "for row in range(nrows):\n",
    "    for col in range(ncols):\n",
    "        plt.subplot(nrows, ncols, row*ncols+col + 1)\n",
    "        vectortoimg(x_train[np.random.randint(len(y_train))],show=False)\n",
    "plt.show()"
   ]
  },
  {
   "cell_type": "code",
   "execution_count": 6,
   "metadata": {},
   "outputs": [
    {
     "data": {
      "text/plain": [
       "(60000, 28, 28)"
      ]
     },
     "execution_count": 6,
     "metadata": {},
     "output_type": "execute_result"
    }
   ],
   "source": [
    "images.shape"
   ]
  },
  {
   "cell_type": "code",
   "execution_count": 7,
   "metadata": {},
   "outputs": [
    {
     "data": {
      "text/plain": [
       "(60000, 1)"
      ]
     },
     "execution_count": 7,
     "metadata": {},
     "output_type": "execute_result"
    }
   ],
   "source": [
    "labels.shape"
   ]
  },
  {
   "cell_type": "code",
   "execution_count": 8,
   "metadata": {},
   "outputs": [],
   "source": [
    "images, labels = load_NMNIST('testing', digits=[0,1,2], path=path)\n",
    "flatimages = list()\n",
    "for i in images:\n",
    "    flatimages.append(i.ravel())\n",
    "x_test = asarray(flatimages) # X now contains 60000 feature vectors, each of dimension 784\n",
    "y_test = labels # T contains class labels with 0->Triangle, 1->Square, 2->Pizza"
   ]
  },
  {
   "cell_type": "code",
   "execution_count": 9,
   "metadata": {},
   "outputs": [],
   "source": [
    "from keras.layers import Input, Dense\n",
    "from keras.models import Model"
   ]
  },
  {
   "cell_type": "markdown",
   "metadata": {},
   "source": [
    "## single fully-connected neural layer as encoder and as decoder"
   ]
  },
  {
   "cell_type": "code",
   "execution_count": 10,
   "metadata": {},
   "outputs": [],
   "source": [
    "# this is the size of our encoded representations\n",
    "encoding_dim = 32  # 3 floats -> 3 floats represents 3 classes\n",
    "\n",
    "# this is our input placeholder\n",
    "input_img = Input(shape=(784,))\n",
    "# \"encoded\" is the encoded representation of the input\n",
    "encoded = Dense(encoding_dim, activation='relu')(input_img)\n",
    "# \"decoded\" is the lossy reconstruction of the input\n",
    "decoded = Dense(784, activation='sigmoid')(encoded)\n",
    "\n",
    "# this model maps an input to its reconstruction\n",
    "autoencoder = Model(input_img, decoded)"
   ]
  },
  {
   "cell_type": "markdown",
   "metadata": {},
   "source": [
    "## Let's also create a separate encoder model"
   ]
  },
  {
   "cell_type": "code",
   "execution_count": 11,
   "metadata": {},
   "outputs": [],
   "source": [
    "# this model maps an input to its encoded representation\n",
    "encoder = Model(input_img, encoded)"
   ]
  },
  {
   "cell_type": "markdown",
   "metadata": {},
   "source": [
    "## decoder model"
   ]
  },
  {
   "cell_type": "code",
   "execution_count": 12,
   "metadata": {},
   "outputs": [],
   "source": [
    "# create a placeholder for an encoded (32-dimensional) input\n",
    "encoded_input = Input(shape=(encoding_dim,))\n",
    "# retrieve the last layer of the autoencoder model\n",
    "decoder_layer = autoencoder.layers[-1]\n",
    "# create the decoder model\n",
    "decoder = Model(encoded_input, decoder_layer(encoded_input))"
   ]
  },
  {
   "cell_type": "markdown",
   "metadata": {},
   "source": [
    "## Use Crossentropy loss, and Adadelta Optimizer"
   ]
  },
  {
   "cell_type": "code",
   "execution_count": 13,
   "metadata": {},
   "outputs": [
    {
     "name": "stdout",
     "output_type": "stream",
     "text": [
      "WARNING:tensorflow:From /usr/local/lib/python2.7/dist-packages/keras/backend/tensorflow_backend.py:1349: calling reduce_mean (from tensorflow.python.ops.math_ops) with keep_dims is deprecated and will be removed in a future version.\n",
      "Instructions for updating:\n",
      "keep_dims is deprecated, use keepdims instead\n"
     ]
    }
   ],
   "source": [
    "autoencoder.compile(optimizer='adadelta', loss='binary_crossentropy')"
   ]
  },
  {
   "cell_type": "code",
   "execution_count": 14,
   "metadata": {},
   "outputs": [
    {
     "name": "stdout",
     "output_type": "stream",
     "text": [
      "(60000, 784)\n",
      "(10000, 784)\n"
     ]
    }
   ],
   "source": [
    "x_train = x_train.astype('float32') / 255.\n",
    "x_test = x_test.astype('float32') / 255.\n",
    "print(x_train.shape)\n",
    "print(x_test.shape)"
   ]
  },
  {
   "cell_type": "markdown",
   "metadata": {},
   "source": [
    "## Train"
   ]
  },
  {
   "cell_type": "code",
   "execution_count": 15,
   "metadata": {},
   "outputs": [
    {
     "name": "stdout",
     "output_type": "stream",
     "text": [
      "Train on 60000 samples, validate on 10000 samples\n",
      "Epoch 1/300\n",
      "60000/60000 [==============================] - 2s 29us/step - loss: 0.4017 - val_loss: 0.3013\n",
      "Epoch 2/300\n",
      "60000/60000 [==============================] - 0s 8us/step - loss: 0.3153 - val_loss: 0.2930\n",
      "Epoch 3/300\n",
      "60000/60000 [==============================] - 0s 8us/step - loss: 0.3051 - val_loss: 0.2811\n",
      "Epoch 4/300\n",
      "60000/60000 [==============================] - 0s 8us/step - loss: 0.2885 - val_loss: 0.2617\n",
      "Epoch 5/300\n",
      "60000/60000 [==============================] - 0s 8us/step - loss: 0.2771 - val_loss: 0.2469\n",
      "Epoch 6/300\n",
      "60000/60000 [==============================] - 0s 8us/step - loss: 0.2689 - val_loss: 0.2324\n",
      "Epoch 7/300\n",
      "60000/60000 [==============================] - 0s 8us/step - loss: 0.2630 - val_loss: 0.2229\n",
      "Epoch 8/300\n",
      "60000/60000 [==============================] - 0s 8us/step - loss: 0.2590 - val_loss: 0.2169\n",
      "Epoch 9/300\n",
      "60000/60000 [==============================] - 0s 8us/step - loss: 0.2555 - val_loss: 0.2113\n",
      "Epoch 10/300\n",
      "60000/60000 [==============================] - 0s 8us/step - loss: 0.2515 - val_loss: 0.2076\n",
      "Epoch 11/300\n",
      "60000/60000 [==============================] - 0s 8us/step - loss: 0.2471 - val_loss: 0.2045\n",
      "Epoch 12/300\n",
      "60000/60000 [==============================] - 0s 8us/step - loss: 0.2422 - val_loss: 0.1993\n",
      "Epoch 13/300\n",
      "60000/60000 [==============================] - 0s 8us/step - loss: 0.2372 - val_loss: 0.1948\n",
      "Epoch 14/300\n",
      "60000/60000 [==============================] - 0s 8us/step - loss: 0.2323 - val_loss: 0.1905\n",
      "Epoch 15/300\n",
      "60000/60000 [==============================] - 0s 8us/step - loss: 0.2275 - val_loss: 0.1865\n",
      "Epoch 16/300\n",
      "60000/60000 [==============================] - 0s 8us/step - loss: 0.2228 - val_loss: 0.1828\n",
      "Epoch 17/300\n",
      "60000/60000 [==============================] - 0s 8us/step - loss: 0.2183 - val_loss: 0.1786\n",
      "Epoch 18/300\n",
      "60000/60000 [==============================] - 0s 8us/step - loss: 0.2139 - val_loss: 0.1752\n",
      "Epoch 19/300\n",
      "60000/60000 [==============================] - 0s 8us/step - loss: 0.2097 - val_loss: 0.1721\n",
      "Epoch 20/300\n",
      "60000/60000 [==============================] - 0s 8us/step - loss: 0.2057 - val_loss: 0.1691\n",
      "Epoch 21/300\n",
      "60000/60000 [==============================] - 0s 8us/step - loss: 0.2019 - val_loss: 0.1659\n",
      "Epoch 22/300\n",
      "60000/60000 [==============================] - 0s 8us/step - loss: 0.1982 - val_loss: 0.1632\n",
      "Epoch 23/300\n",
      "60000/60000 [==============================] - 0s 8us/step - loss: 0.1947 - val_loss: 0.1607\n",
      "Epoch 24/300\n",
      "60000/60000 [==============================] - 0s 8us/step - loss: 0.1913 - val_loss: 0.1581\n",
      "Epoch 25/300\n",
      "60000/60000 [==============================] - 0s 8us/step - loss: 0.1882 - val_loss: 0.1562\n",
      "Epoch 26/300\n",
      "60000/60000 [==============================] - 0s 8us/step - loss: 0.1852 - val_loss: 0.1538\n",
      "Epoch 27/300\n",
      "60000/60000 [==============================] - 0s 8us/step - loss: 0.1823 - val_loss: 0.1519\n",
      "Epoch 28/300\n",
      "60000/60000 [==============================] - 0s 8us/step - loss: 0.1797 - val_loss: 0.1502\n",
      "Epoch 29/300\n",
      "60000/60000 [==============================] - 0s 8us/step - loss: 0.1772 - val_loss: 0.1487\n",
      "Epoch 30/300\n",
      "60000/60000 [==============================] - 0s 8us/step - loss: 0.1749 - val_loss: 0.1471\n",
      "Epoch 31/300\n",
      "60000/60000 [==============================] - 0s 8us/step - loss: 0.1728 - val_loss: 0.1456\n",
      "Epoch 32/300\n",
      "60000/60000 [==============================] - 0s 8us/step - loss: 0.1708 - val_loss: 0.1440\n",
      "Epoch 33/300\n",
      "60000/60000 [==============================] - 0s 8us/step - loss: 0.1689 - val_loss: 0.1431\n",
      "Epoch 34/300\n",
      "60000/60000 [==============================] - 0s 8us/step - loss: 0.1672 - val_loss: 0.1419\n",
      "Epoch 35/300\n",
      "60000/60000 [==============================] - 0s 8us/step - loss: 0.1657 - val_loss: 0.1405\n",
      "Epoch 36/300\n",
      "60000/60000 [==============================] - 0s 8us/step - loss: 0.1642 - val_loss: 0.1398\n",
      "Epoch 37/300\n",
      "60000/60000 [==============================] - 0s 7us/step - loss: 0.1628 - val_loss: 0.1391\n",
      "Epoch 38/300\n",
      "60000/60000 [==============================] - 0s 8us/step - loss: 0.1615 - val_loss: 0.1380\n",
      "Epoch 39/300\n",
      "60000/60000 [==============================] - 0s 8us/step - loss: 0.1604 - val_loss: 0.1371\n",
      "Epoch 40/300\n",
      "60000/60000 [==============================] - 0s 8us/step - loss: 0.1592 - val_loss: 0.1368\n",
      "Epoch 41/300\n",
      "60000/60000 [==============================] - 0s 8us/step - loss: 0.1582 - val_loss: 0.1359\n",
      "Epoch 42/300\n",
      "60000/60000 [==============================] - 0s 8us/step - loss: 0.1572 - val_loss: 0.1354\n",
      "Epoch 43/300\n",
      "60000/60000 [==============================] - 0s 8us/step - loss: 0.1563 - val_loss: 0.1349\n",
      "Epoch 44/300\n",
      "60000/60000 [==============================] - 0s 8us/step - loss: 0.1554 - val_loss: 0.1346\n",
      "Epoch 45/300\n",
      "60000/60000 [==============================] - 0s 8us/step - loss: 0.1546 - val_loss: 0.1336\n",
      "Epoch 46/300\n",
      "60000/60000 [==============================] - 0s 8us/step - loss: 0.1538 - val_loss: 0.1330\n",
      "Epoch 47/300\n",
      "60000/60000 [==============================] - 0s 8us/step - loss: 0.1530 - val_loss: 0.1327\n",
      "Epoch 48/300\n",
      "60000/60000 [==============================] - 0s 8us/step - loss: 0.1523 - val_loss: 0.1325\n",
      "Epoch 49/300\n",
      "60000/60000 [==============================] - 0s 8us/step - loss: 0.1516 - val_loss: 0.1317\n",
      "Epoch 50/300\n",
      "60000/60000 [==============================] - 0s 8us/step - loss: 0.1510 - val_loss: 0.1318\n",
      "Epoch 51/300\n",
      "60000/60000 [==============================] - 0s 8us/step - loss: 0.1504 - val_loss: 0.1311\n",
      "Epoch 52/300\n",
      "60000/60000 [==============================] - 0s 8us/step - loss: 0.1498 - val_loss: 0.1307\n",
      "Epoch 53/300\n",
      "60000/60000 [==============================] - 0s 8us/step - loss: 0.1493 - val_loss: 0.1304\n",
      "Epoch 54/300\n",
      "60000/60000 [==============================] - 0s 8us/step - loss: 0.1487 - val_loss: 0.1294\n",
      "Epoch 55/300\n",
      "60000/60000 [==============================] - 0s 8us/step - loss: 0.1482 - val_loss: 0.1300\n",
      "Epoch 56/300\n",
      "60000/60000 [==============================] - 0s 8us/step - loss: 0.1478 - val_loss: 0.1292\n",
      "Epoch 57/300\n",
      "60000/60000 [==============================] - 0s 8us/step - loss: 0.1473 - val_loss: 0.1293\n",
      "Epoch 58/300\n",
      "60000/60000 [==============================] - 0s 8us/step - loss: 0.1468 - val_loss: 0.1283\n",
      "Epoch 59/300\n",
      "60000/60000 [==============================] - 0s 8us/step - loss: 0.1464 - val_loss: 0.1282\n",
      "Epoch 60/300\n",
      "60000/60000 [==============================] - 0s 8us/step - loss: 0.1460 - val_loss: 0.1281\n",
      "Epoch 61/300\n",
      "60000/60000 [==============================] - 0s 8us/step - loss: 0.1456 - val_loss: 0.1281\n",
      "Epoch 62/300\n",
      "60000/60000 [==============================] - 0s 8us/step - loss: 0.1452 - val_loss: 0.1278\n",
      "Epoch 63/300\n",
      "60000/60000 [==============================] - 0s 8us/step - loss: 0.1448 - val_loss: 0.1273\n",
      "Epoch 64/300\n",
      "60000/60000 [==============================] - 0s 8us/step - loss: 0.1444 - val_loss: 0.1273\n",
      "Epoch 65/300\n",
      "60000/60000 [==============================] - 0s 8us/step - loss: 0.1440 - val_loss: 0.1268\n",
      "Epoch 66/300\n",
      "60000/60000 [==============================] - 0s 8us/step - loss: 0.1436 - val_loss: 0.1267\n",
      "Epoch 67/300\n",
      "60000/60000 [==============================] - 0s 8us/step - loss: 0.1432 - val_loss: 0.1263\n",
      "Epoch 68/300\n",
      "60000/60000 [==============================] - 0s 8us/step - loss: 0.1429 - val_loss: 0.1264\n",
      "Epoch 69/300\n",
      "60000/60000 [==============================] - 0s 8us/step - loss: 0.1425 - val_loss: 0.1261\n",
      "Epoch 70/300\n",
      "60000/60000 [==============================] - 0s 8us/step - loss: 0.1421 - val_loss: 0.1261\n",
      "Epoch 71/300\n",
      "60000/60000 [==============================] - 0s 8us/step - loss: 0.1417 - val_loss: 0.1254\n",
      "Epoch 72/300\n",
      "60000/60000 [==============================] - 0s 8us/step - loss: 0.1414 - val_loss: 0.1254\n",
      "Epoch 73/300\n",
      "60000/60000 [==============================] - 0s 8us/step - loss: 0.1410 - val_loss: 0.1252\n",
      "Epoch 74/300\n",
      "60000/60000 [==============================] - 0s 8us/step - loss: 0.1407 - val_loss: 0.1244\n",
      "Epoch 75/300\n",
      "60000/60000 [==============================] - 0s 8us/step - loss: 0.1403 - val_loss: 0.1248\n",
      "Epoch 76/300\n",
      "60000/60000 [==============================] - 0s 8us/step - loss: 0.1400 - val_loss: 0.1241\n",
      "Epoch 77/300\n",
      "60000/60000 [==============================] - 0s 8us/step - loss: 0.1396 - val_loss: 0.1242\n"
     ]
    },
    {
     "name": "stdout",
     "output_type": "stream",
     "text": [
      "Epoch 78/300\n",
      "60000/60000 [==============================] - 0s 8us/step - loss: 0.1393 - val_loss: 0.1240\n",
      "Epoch 79/300\n",
      "60000/60000 [==============================] - 0s 8us/step - loss: 0.1390 - val_loss: 0.1237\n",
      "Epoch 80/300\n",
      "60000/60000 [==============================] - 0s 8us/step - loss: 0.1387 - val_loss: 0.1233\n",
      "Epoch 81/300\n",
      "60000/60000 [==============================] - 0s 8us/step - loss: 0.1384 - val_loss: 0.1231\n",
      "Epoch 82/300\n",
      "60000/60000 [==============================] - 0s 8us/step - loss: 0.1381 - val_loss: 0.1232\n",
      "Epoch 83/300\n",
      "60000/60000 [==============================] - 0s 8us/step - loss: 0.1378 - val_loss: 0.1225\n",
      "Epoch 84/300\n",
      "60000/60000 [==============================] - 0s 8us/step - loss: 0.1375 - val_loss: 0.1231\n",
      "Epoch 85/300\n",
      "60000/60000 [==============================] - 0s 8us/step - loss: 0.1373 - val_loss: 0.1221\n",
      "Epoch 86/300\n",
      "60000/60000 [==============================] - 0s 8us/step - loss: 0.1370 - val_loss: 0.1219\n",
      "Epoch 87/300\n",
      "60000/60000 [==============================] - 0s 8us/step - loss: 0.1368 - val_loss: 0.1221\n",
      "Epoch 88/300\n",
      "60000/60000 [==============================] - 0s 8us/step - loss: 0.1365 - val_loss: 0.1222\n",
      "Epoch 89/300\n",
      "60000/60000 [==============================] - 0s 8us/step - loss: 0.1363 - val_loss: 0.1219\n",
      "Epoch 90/300\n",
      "60000/60000 [==============================] - 0s 8us/step - loss: 0.1360 - val_loss: 0.1219\n",
      "Epoch 91/300\n",
      "60000/60000 [==============================] - 0s 8us/step - loss: 0.1358 - val_loss: 0.1214\n",
      "Epoch 92/300\n",
      "60000/60000 [==============================] - 0s 8us/step - loss: 0.1356 - val_loss: 0.1214\n",
      "Epoch 93/300\n",
      "60000/60000 [==============================] - 0s 8us/step - loss: 0.1354 - val_loss: 0.1211\n",
      "Epoch 94/300\n",
      "60000/60000 [==============================] - 0s 8us/step - loss: 0.1352 - val_loss: 0.1207\n",
      "Epoch 95/300\n",
      "60000/60000 [==============================] - 0s 8us/step - loss: 0.1350 - val_loss: 0.1204\n",
      "Epoch 96/300\n",
      "60000/60000 [==============================] - 0s 8us/step - loss: 0.1347 - val_loss: 0.1211\n",
      "Epoch 97/300\n",
      "60000/60000 [==============================] - 0s 8us/step - loss: 0.1346 - val_loss: 0.1210\n",
      "Epoch 98/300\n",
      "60000/60000 [==============================] - 0s 8us/step - loss: 0.1344 - val_loss: 0.1203\n",
      "Epoch 99/300\n",
      "60000/60000 [==============================] - 0s 8us/step - loss: 0.1342 - val_loss: 0.1203\n",
      "Epoch 100/300\n",
      "60000/60000 [==============================] - 0s 8us/step - loss: 0.1340 - val_loss: 0.1200\n",
      "Epoch 101/300\n",
      "60000/60000 [==============================] - 0s 8us/step - loss: 0.1338 - val_loss: 0.1203\n",
      "Epoch 102/300\n",
      "60000/60000 [==============================] - 0s 8us/step - loss: 0.1336 - val_loss: 0.1207\n",
      "Epoch 103/300\n",
      "60000/60000 [==============================] - 0s 8us/step - loss: 0.1335 - val_loss: 0.1201\n",
      "Epoch 104/300\n",
      "60000/60000 [==============================] - 0s 8us/step - loss: 0.1333 - val_loss: 0.1197\n",
      "Epoch 105/300\n",
      "60000/60000 [==============================] - 0s 8us/step - loss: 0.1332 - val_loss: 0.1199\n",
      "Epoch 106/300\n",
      "60000/60000 [==============================] - 0s 8us/step - loss: 0.1330 - val_loss: 0.1198\n",
      "Epoch 107/300\n",
      "60000/60000 [==============================] - 0s 8us/step - loss: 0.1329 - val_loss: 0.1199\n",
      "Epoch 108/300\n",
      "60000/60000 [==============================] - 0s 8us/step - loss: 0.1327 - val_loss: 0.1196\n",
      "Epoch 109/300\n",
      "60000/60000 [==============================] - 0s 8us/step - loss: 0.1326 - val_loss: 0.1194\n",
      "Epoch 110/300\n",
      "60000/60000 [==============================] - 0s 8us/step - loss: 0.1324 - val_loss: 0.1192\n",
      "Epoch 111/300\n",
      "60000/60000 [==============================] - 0s 8us/step - loss: 0.1323 - val_loss: 0.1190\n",
      "Epoch 112/300\n",
      "60000/60000 [==============================] - 0s 8us/step - loss: 0.1322 - val_loss: 0.1192\n",
      "Epoch 113/300\n",
      "60000/60000 [==============================] - 0s 8us/step - loss: 0.1321 - val_loss: 0.1194\n",
      "Epoch 114/300\n",
      "60000/60000 [==============================] - 0s 8us/step - loss: 0.1319 - val_loss: 0.1189\n",
      "Epoch 115/300\n",
      "60000/60000 [==============================] - 0s 8us/step - loss: 0.1318 - val_loss: 0.1188\n",
      "Epoch 116/300\n",
      "60000/60000 [==============================] - 0s 8us/step - loss: 0.1317 - val_loss: 0.1188\n",
      "Epoch 117/300\n",
      "60000/60000 [==============================] - 0s 8us/step - loss: 0.1316 - val_loss: 0.1185\n",
      "Epoch 118/300\n",
      "60000/60000 [==============================] - 0s 8us/step - loss: 0.1315 - val_loss: 0.1185\n",
      "Epoch 119/300\n",
      "60000/60000 [==============================] - 0s 8us/step - loss: 0.1314 - val_loss: 0.1186\n",
      "Epoch 120/300\n",
      "60000/60000 [==============================] - 0s 8us/step - loss: 0.1313 - val_loss: 0.1180\n",
      "Epoch 121/300\n",
      "60000/60000 [==============================] - 0s 8us/step - loss: 0.1312 - val_loss: 0.1181\n",
      "Epoch 122/300\n",
      "60000/60000 [==============================] - 0s 8us/step - loss: 0.1311 - val_loss: 0.1187\n",
      "Epoch 123/300\n",
      "60000/60000 [==============================] - 0s 8us/step - loss: 0.1310 - val_loss: 0.1178\n",
      "Epoch 124/300\n",
      "60000/60000 [==============================] - 0s 8us/step - loss: 0.1309 - val_loss: 0.1179\n",
      "Epoch 125/300\n",
      "60000/60000 [==============================] - 0s 8us/step - loss: 0.1308 - val_loss: 0.1178\n",
      "Epoch 126/300\n",
      "60000/60000 [==============================] - 0s 8us/step - loss: 0.1307 - val_loss: 0.1182\n",
      "Epoch 127/300\n",
      "60000/60000 [==============================] - 0s 8us/step - loss: 0.1307 - val_loss: 0.1181\n",
      "Epoch 128/300\n",
      "60000/60000 [==============================] - 0s 8us/step - loss: 0.1306 - val_loss: 0.1182\n",
      "Epoch 129/300\n",
      "60000/60000 [==============================] - 0s 8us/step - loss: 0.1305 - val_loss: 0.1179\n",
      "Epoch 130/300\n",
      "60000/60000 [==============================] - 0s 8us/step - loss: 0.1304 - val_loss: 0.1181\n",
      "Epoch 131/300\n",
      "60000/60000 [==============================] - 0s 8us/step - loss: 0.1303 - val_loss: 0.1179\n",
      "Epoch 132/300\n",
      "60000/60000 [==============================] - 0s 8us/step - loss: 0.1302 - val_loss: 0.1180\n",
      "Epoch 133/300\n",
      "60000/60000 [==============================] - 0s 8us/step - loss: 0.1302 - val_loss: 0.1178\n",
      "Epoch 134/300\n",
      "60000/60000 [==============================] - 0s 8us/step - loss: 0.1301 - val_loss: 0.1177\n",
      "Epoch 135/300\n",
      "60000/60000 [==============================] - 0s 8us/step - loss: 0.1300 - val_loss: 0.1180\n",
      "Epoch 136/300\n",
      "60000/60000 [==============================] - 0s 8us/step - loss: 0.1300 - val_loss: 0.1179\n",
      "Epoch 137/300\n",
      "60000/60000 [==============================] - 0s 8us/step - loss: 0.1299 - val_loss: 0.1175\n",
      "Epoch 138/300\n",
      "60000/60000 [==============================] - 0s 7us/step - loss: 0.1298 - val_loss: 0.1177\n",
      "Epoch 139/300\n",
      "60000/60000 [==============================] - 0s 8us/step - loss: 0.1298 - val_loss: 0.1176\n",
      "Epoch 140/300\n",
      "60000/60000 [==============================] - 0s 8us/step - loss: 0.1297 - val_loss: 0.1172\n",
      "Epoch 141/300\n",
      "60000/60000 [==============================] - 0s 8us/step - loss: 0.1296 - val_loss: 0.1175\n",
      "Epoch 142/300\n",
      "60000/60000 [==============================] - 0s 8us/step - loss: 0.1296 - val_loss: 0.1179\n",
      "Epoch 143/300\n",
      "60000/60000 [==============================] - 0s 8us/step - loss: 0.1295 - val_loss: 0.1175\n",
      "Epoch 144/300\n",
      "60000/60000 [==============================] - 0s 8us/step - loss: 0.1294 - val_loss: 0.1177\n",
      "Epoch 145/300\n",
      "60000/60000 [==============================] - 0s 8us/step - loss: 0.1294 - val_loss: 0.1176\n",
      "Epoch 146/300\n",
      "60000/60000 [==============================] - 0s 8us/step - loss: 0.1293 - val_loss: 0.1178\n",
      "Epoch 147/300\n",
      "60000/60000 [==============================] - 0s 8us/step - loss: 0.1293 - val_loss: 0.1171\n",
      "Epoch 148/300\n",
      "60000/60000 [==============================] - 0s 8us/step - loss: 0.1292 - val_loss: 0.1177\n",
      "Epoch 149/300\n",
      "60000/60000 [==============================] - 0s 8us/step - loss: 0.1291 - val_loss: 0.1173\n",
      "Epoch 150/300\n",
      "60000/60000 [==============================] - 0s 8us/step - loss: 0.1291 - val_loss: 0.1173\n",
      "Epoch 151/300\n",
      "60000/60000 [==============================] - 0s 8us/step - loss: 0.1290 - val_loss: 0.1168\n",
      "Epoch 152/300\n",
      "60000/60000 [==============================] - 0s 8us/step - loss: 0.1290 - val_loss: 0.1172\n",
      "Epoch 153/300\n",
      "60000/60000 [==============================] - 0s 8us/step - loss: 0.1289 - val_loss: 0.1172\n",
      "Epoch 154/300\n"
     ]
    },
    {
     "name": "stdout",
     "output_type": "stream",
     "text": [
      "60000/60000 [==============================] - 0s 8us/step - loss: 0.1289 - val_loss: 0.1173\n",
      "Epoch 155/300\n",
      "60000/60000 [==============================] - 0s 8us/step - loss: 0.1288 - val_loss: 0.1172\n",
      "Epoch 156/300\n",
      "60000/60000 [==============================] - 0s 8us/step - loss: 0.1288 - val_loss: 0.1173\n",
      "Epoch 157/300\n",
      "60000/60000 [==============================] - 0s 8us/step - loss: 0.1287 - val_loss: 0.1173\n",
      "Epoch 158/300\n",
      "60000/60000 [==============================] - 0s 8us/step - loss: 0.1287 - val_loss: 0.1168\n",
      "Epoch 159/300\n",
      "60000/60000 [==============================] - 0s 8us/step - loss: 0.1286 - val_loss: 0.1170\n",
      "Epoch 160/300\n",
      "60000/60000 [==============================] - 0s 8us/step - loss: 0.1286 - val_loss: 0.1169\n",
      "Epoch 161/300\n",
      "60000/60000 [==============================] - 0s 8us/step - loss: 0.1285 - val_loss: 0.1169\n",
      "Epoch 162/300\n",
      "60000/60000 [==============================] - 0s 8us/step - loss: 0.1285 - val_loss: 0.1167\n",
      "Epoch 163/300\n",
      "60000/60000 [==============================] - 0s 8us/step - loss: 0.1284 - val_loss: 0.1173\n",
      "Epoch 164/300\n",
      "60000/60000 [==============================] - 0s 8us/step - loss: 0.1284 - val_loss: 0.1167\n",
      "Epoch 165/300\n",
      "60000/60000 [==============================] - 0s 8us/step - loss: 0.1283 - val_loss: 0.1168\n",
      "Epoch 166/300\n",
      "60000/60000 [==============================] - 0s 8us/step - loss: 0.1283 - val_loss: 0.1169\n",
      "Epoch 167/300\n",
      "60000/60000 [==============================] - 0s 8us/step - loss: 0.1282 - val_loss: 0.1168\n",
      "Epoch 168/300\n",
      "60000/60000 [==============================] - 0s 8us/step - loss: 0.1282 - val_loss: 0.1169\n",
      "Epoch 169/300\n",
      "60000/60000 [==============================] - 0s 8us/step - loss: 0.1281 - val_loss: 0.1169\n",
      "Epoch 170/300\n",
      "60000/60000 [==============================] - 0s 8us/step - loss: 0.1281 - val_loss: 0.1165\n",
      "Epoch 171/300\n",
      "60000/60000 [==============================] - 0s 8us/step - loss: 0.1280 - val_loss: 0.1170\n",
      "Epoch 172/300\n",
      "60000/60000 [==============================] - 0s 8us/step - loss: 0.1280 - val_loss: 0.1170\n",
      "Epoch 173/300\n",
      "60000/60000 [==============================] - 0s 8us/step - loss: 0.1279 - val_loss: 0.1166\n",
      "Epoch 174/300\n",
      "60000/60000 [==============================] - 0s 8us/step - loss: 0.1279 - val_loss: 0.1170\n",
      "Epoch 175/300\n",
      "60000/60000 [==============================] - 0s 8us/step - loss: 0.1278 - val_loss: 0.1163\n",
      "Epoch 176/300\n",
      "60000/60000 [==============================] - 0s 8us/step - loss: 0.1277 - val_loss: 0.1163\n",
      "Epoch 177/300\n",
      "60000/60000 [==============================] - 0s 7us/step - loss: 0.1277 - val_loss: 0.1162\n",
      "Epoch 178/300\n",
      "60000/60000 [==============================] - 0s 8us/step - loss: 0.1276 - val_loss: 0.1165\n",
      "Epoch 179/300\n",
      "60000/60000 [==============================] - 0s 8us/step - loss: 0.1276 - val_loss: 0.1169\n",
      "Epoch 180/300\n",
      "60000/60000 [==============================] - 0s 8us/step - loss: 0.1275 - val_loss: 0.1166\n",
      "Epoch 181/300\n",
      "60000/60000 [==============================] - 0s 8us/step - loss: 0.1275 - val_loss: 0.1164\n",
      "Epoch 182/300\n",
      "60000/60000 [==============================] - 0s 8us/step - loss: 0.1274 - val_loss: 0.1166\n",
      "Epoch 183/300\n",
      "60000/60000 [==============================] - 0s 8us/step - loss: 0.1274 - val_loss: 0.1166\n",
      "Epoch 184/300\n",
      "60000/60000 [==============================] - 0s 8us/step - loss: 0.1273 - val_loss: 0.1164\n",
      "Epoch 185/300\n",
      "60000/60000 [==============================] - 0s 8us/step - loss: 0.1272 - val_loss: 0.1162\n",
      "Epoch 186/300\n",
      "60000/60000 [==============================] - 0s 8us/step - loss: 0.1272 - val_loss: 0.1165\n",
      "Epoch 187/300\n",
      "60000/60000 [==============================] - 0s 8us/step - loss: 0.1271 - val_loss: 0.1163\n",
      "Epoch 188/300\n",
      "60000/60000 [==============================] - 0s 8us/step - loss: 0.1270 - val_loss: 0.1165\n",
      "Epoch 189/300\n",
      "60000/60000 [==============================] - 0s 8us/step - loss: 0.1270 - val_loss: 0.1166\n",
      "Epoch 190/300\n",
      "60000/60000 [==============================] - 0s 8us/step - loss: 0.1269 - val_loss: 0.1161\n",
      "Epoch 191/300\n",
      "60000/60000 [==============================] - 0s 8us/step - loss: 0.1268 - val_loss: 0.1166\n",
      "Epoch 192/300\n",
      "60000/60000 [==============================] - 0s 8us/step - loss: 0.1268 - val_loss: 0.1159\n",
      "Epoch 193/300\n",
      "60000/60000 [==============================] - 0s 8us/step - loss: 0.1267 - val_loss: 0.1161\n",
      "Epoch 194/300\n",
      "60000/60000 [==============================] - 0s 8us/step - loss: 0.1266 - val_loss: 0.1158\n",
      "Epoch 195/300\n",
      "60000/60000 [==============================] - 0s 8us/step - loss: 0.1266 - val_loss: 0.1159\n",
      "Epoch 196/300\n",
      "60000/60000 [==============================] - 0s 8us/step - loss: 0.1265 - val_loss: 0.1158\n",
      "Epoch 197/300\n",
      "60000/60000 [==============================] - 0s 8us/step - loss: 0.1264 - val_loss: 0.1158\n",
      "Epoch 198/300\n",
      "60000/60000 [==============================] - 0s 8us/step - loss: 0.1263 - val_loss: 0.1161\n",
      "Epoch 199/300\n",
      "60000/60000 [==============================] - 0s 8us/step - loss: 0.1263 - val_loss: 0.1162\n",
      "Epoch 200/300\n",
      "60000/60000 [==============================] - 0s 8us/step - loss: 0.1262 - val_loss: 0.1161\n",
      "Epoch 201/300\n",
      "60000/60000 [==============================] - 0s 8us/step - loss: 0.1261 - val_loss: 0.1163\n",
      "Epoch 202/300\n",
      "60000/60000 [==============================] - 0s 8us/step - loss: 0.1261 - val_loss: 0.1157\n",
      "Epoch 203/300\n",
      "60000/60000 [==============================] - 0s 8us/step - loss: 0.1260 - val_loss: 0.1159\n",
      "Epoch 204/300\n",
      "60000/60000 [==============================] - 0s 8us/step - loss: 0.1259 - val_loss: 0.1158\n",
      "Epoch 205/300\n",
      "60000/60000 [==============================] - 0s 8us/step - loss: 0.1259 - val_loss: 0.1158\n",
      "Epoch 206/300\n",
      "60000/60000 [==============================] - 0s 8us/step - loss: 0.1258 - val_loss: 0.1155\n",
      "Epoch 207/300\n",
      "60000/60000 [==============================] - 0s 8us/step - loss: 0.1257 - val_loss: 0.1159\n",
      "Epoch 208/300\n",
      "60000/60000 [==============================] - 0s 8us/step - loss: 0.1257 - val_loss: 0.1159\n",
      "Epoch 209/300\n",
      "60000/60000 [==============================] - 0s 8us/step - loss: 0.1256 - val_loss: 0.1154\n",
      "Epoch 210/300\n",
      "60000/60000 [==============================] - 0s 8us/step - loss: 0.1255 - val_loss: 0.1156\n",
      "Epoch 211/300\n",
      "60000/60000 [==============================] - 0s 8us/step - loss: 0.1255 - val_loss: 0.1160\n",
      "Epoch 212/300\n",
      "60000/60000 [==============================] - 0s 8us/step - loss: 0.1254 - val_loss: 0.1157\n",
      "Epoch 213/300\n",
      "60000/60000 [==============================] - 0s 7us/step - loss: 0.1254 - val_loss: 0.1154\n",
      "Epoch 214/300\n",
      "60000/60000 [==============================] - 0s 8us/step - loss: 0.1253 - val_loss: 0.1156\n",
      "Epoch 215/300\n",
      "60000/60000 [==============================] - 0s 8us/step - loss: 0.1253 - val_loss: 0.1158\n",
      "Epoch 216/300\n",
      "60000/60000 [==============================] - 0s 8us/step - loss: 0.1252 - val_loss: 0.1155\n",
      "Epoch 217/300\n",
      "60000/60000 [==============================] - 0s 8us/step - loss: 0.1252 - val_loss: 0.1157\n",
      "Epoch 218/300\n",
      "60000/60000 [==============================] - 0s 8us/step - loss: 0.1251 - val_loss: 0.1160\n",
      "Epoch 219/300\n",
      "60000/60000 [==============================] - 0s 8us/step - loss: 0.1251 - val_loss: 0.1158\n",
      "Epoch 220/300\n",
      "60000/60000 [==============================] - 0s 8us/step - loss: 0.1250 - val_loss: 0.1156\n",
      "Epoch 221/300\n",
      "60000/60000 [==============================] - 0s 8us/step - loss: 0.1250 - val_loss: 0.1156\n",
      "Epoch 222/300\n",
      "60000/60000 [==============================] - 0s 8us/step - loss: 0.1250 - val_loss: 0.1158\n",
      "Epoch 223/300\n",
      "60000/60000 [==============================] - 0s 8us/step - loss: 0.1249 - val_loss: 0.1157\n",
      "Epoch 224/300\n",
      "60000/60000 [==============================] - 0s 8us/step - loss: 0.1249 - val_loss: 0.1158\n",
      "Epoch 225/300\n",
      "60000/60000 [==============================] - 0s 8us/step - loss: 0.1248 - val_loss: 0.1154\n",
      "Epoch 226/300\n",
      "60000/60000 [==============================] - 0s 8us/step - loss: 0.1248 - val_loss: 0.1159\n",
      "Epoch 227/300\n",
      "60000/60000 [==============================] - 0s 8us/step - loss: 0.1248 - val_loss: 0.1159\n",
      "Epoch 228/300\n",
      "60000/60000 [==============================] - 0s 8us/step - loss: 0.1247 - val_loss: 0.1156\n",
      "Epoch 229/300\n",
      "60000/60000 [==============================] - 0s 8us/step - loss: 0.1247 - val_loss: 0.1156\n",
      "Epoch 230/300\n"
     ]
    },
    {
     "name": "stdout",
     "output_type": "stream",
     "text": [
      "60000/60000 [==============================] - 0s 8us/step - loss: 0.1247 - val_loss: 0.1157\n",
      "Epoch 231/300\n",
      "60000/60000 [==============================] - 0s 8us/step - loss: 0.1246 - val_loss: 0.1159\n",
      "Epoch 232/300\n",
      "60000/60000 [==============================] - 0s 8us/step - loss: 0.1246 - val_loss: 0.1155\n",
      "Epoch 233/300\n",
      "60000/60000 [==============================] - 0s 8us/step - loss: 0.1246 - val_loss: 0.1153\n",
      "Epoch 234/300\n",
      "60000/60000 [==============================] - 0s 8us/step - loss: 0.1245 - val_loss: 0.1154\n",
      "Epoch 235/300\n",
      "60000/60000 [==============================] - 0s 8us/step - loss: 0.1245 - val_loss: 0.1156\n",
      "Epoch 236/300\n",
      "60000/60000 [==============================] - 0s 8us/step - loss: 0.1245 - val_loss: 0.1157\n",
      "Epoch 237/300\n",
      "60000/60000 [==============================] - 0s 8us/step - loss: 0.1244 - val_loss: 0.1152\n",
      "Epoch 238/300\n",
      "60000/60000 [==============================] - 0s 8us/step - loss: 0.1244 - val_loss: 0.1155\n",
      "Epoch 239/300\n",
      "60000/60000 [==============================] - 0s 8us/step - loss: 0.1244 - val_loss: 0.1160\n",
      "Epoch 240/300\n",
      "60000/60000 [==============================] - 0s 8us/step - loss: 0.1243 - val_loss: 0.1158\n",
      "Epoch 241/300\n",
      "60000/60000 [==============================] - 0s 8us/step - loss: 0.1243 - val_loss: 0.1156\n",
      "Epoch 242/300\n",
      "60000/60000 [==============================] - 0s 8us/step - loss: 0.1243 - val_loss: 0.1161\n",
      "Epoch 243/300\n",
      "60000/60000 [==============================] - 0s 8us/step - loss: 0.1243 - val_loss: 0.1159\n",
      "Epoch 244/300\n",
      "60000/60000 [==============================] - 0s 8us/step - loss: 0.1242 - val_loss: 0.1157\n",
      "Epoch 245/300\n",
      "60000/60000 [==============================] - 0s 8us/step - loss: 0.1242 - val_loss: 0.1163\n",
      "Epoch 246/300\n",
      "60000/60000 [==============================] - 0s 8us/step - loss: 0.1242 - val_loss: 0.1158\n",
      "Epoch 247/300\n",
      "60000/60000 [==============================] - 0s 8us/step - loss: 0.1242 - val_loss: 0.1154\n",
      "Epoch 248/300\n",
      "60000/60000 [==============================] - 0s 8us/step - loss: 0.1241 - val_loss: 0.1160\n",
      "Epoch 249/300\n",
      "60000/60000 [==============================] - 0s 8us/step - loss: 0.1241 - val_loss: 0.1155\n",
      "Epoch 250/300\n",
      "60000/60000 [==============================] - 0s 8us/step - loss: 0.1241 - val_loss: 0.1159\n",
      "Epoch 251/300\n",
      "60000/60000 [==============================] - 0s 8us/step - loss: 0.1241 - val_loss: 0.1157\n",
      "Epoch 252/300\n",
      "60000/60000 [==============================] - 0s 8us/step - loss: 0.1240 - val_loss: 0.1157\n",
      "Epoch 253/300\n",
      "60000/60000 [==============================] - 0s 8us/step - loss: 0.1240 - val_loss: 0.1160\n",
      "Epoch 254/300\n",
      "60000/60000 [==============================] - 0s 8us/step - loss: 0.1240 - val_loss: 0.1160\n",
      "Epoch 255/300\n",
      "60000/60000 [==============================] - 0s 8us/step - loss: 0.1240 - val_loss: 0.1160\n",
      "Epoch 256/300\n",
      "60000/60000 [==============================] - 0s 8us/step - loss: 0.1239 - val_loss: 0.1162\n",
      "Epoch 257/300\n",
      "60000/60000 [==============================] - 0s 8us/step - loss: 0.1239 - val_loss: 0.1161\n",
      "Epoch 258/300\n",
      "60000/60000 [==============================] - 0s 8us/step - loss: 0.1239 - val_loss: 0.1160\n",
      "Epoch 259/300\n",
      "60000/60000 [==============================] - 0s 8us/step - loss: 0.1239 - val_loss: 0.1157\n",
      "Epoch 260/300\n",
      "60000/60000 [==============================] - 0s 8us/step - loss: 0.1238 - val_loss: 0.1157\n",
      "Epoch 261/300\n",
      "60000/60000 [==============================] - 0s 8us/step - loss: 0.1238 - val_loss: 0.1159\n",
      "Epoch 262/300\n",
      "60000/60000 [==============================] - 0s 8us/step - loss: 0.1238 - val_loss: 0.1159\n",
      "Epoch 263/300\n",
      "60000/60000 [==============================] - 0s 8us/step - loss: 0.1238 - val_loss: 0.1161\n",
      "Epoch 264/300\n",
      "60000/60000 [==============================] - 0s 8us/step - loss: 0.1238 - val_loss: 0.1158\n",
      "Epoch 265/300\n",
      "60000/60000 [==============================] - 0s 8us/step - loss: 0.1237 - val_loss: 0.1159\n",
      "Epoch 266/300\n",
      "60000/60000 [==============================] - 0s 8us/step - loss: 0.1237 - val_loss: 0.1165\n",
      "Epoch 267/300\n",
      "60000/60000 [==============================] - 0s 8us/step - loss: 0.1237 - val_loss: 0.1160\n",
      "Epoch 268/300\n",
      "60000/60000 [==============================] - 0s 8us/step - loss: 0.1237 - val_loss: 0.1157\n",
      "Epoch 269/300\n",
      "60000/60000 [==============================] - 0s 8us/step - loss: 0.1237 - val_loss: 0.1156\n",
      "Epoch 270/300\n",
      "60000/60000 [==============================] - 0s 8us/step - loss: 0.1236 - val_loss: 0.1160\n",
      "Epoch 271/300\n",
      "60000/60000 [==============================] - 0s 8us/step - loss: 0.1236 - val_loss: 0.1163\n",
      "Epoch 272/300\n",
      "60000/60000 [==============================] - 0s 8us/step - loss: 0.1236 - val_loss: 0.1164\n",
      "Epoch 273/300\n",
      "60000/60000 [==============================] - 0s 8us/step - loss: 0.1236 - val_loss: 0.1161\n",
      "Epoch 274/300\n",
      "60000/60000 [==============================] - 0s 8us/step - loss: 0.1236 - val_loss: 0.1164\n",
      "Epoch 275/300\n",
      "60000/60000 [==============================] - 0s 8us/step - loss: 0.1235 - val_loss: 0.1162\n",
      "Epoch 276/300\n",
      "60000/60000 [==============================] - 0s 8us/step - loss: 0.1235 - val_loss: 0.1163\n",
      "Epoch 277/300\n",
      "60000/60000 [==============================] - 0s 8us/step - loss: 0.1235 - val_loss: 0.1162\n",
      "Epoch 278/300\n",
      "60000/60000 [==============================] - 0s 8us/step - loss: 0.1235 - val_loss: 0.1161\n",
      "Epoch 279/300\n",
      "60000/60000 [==============================] - 0s 8us/step - loss: 0.1235 - val_loss: 0.1165\n",
      "Epoch 280/300\n",
      "60000/60000 [==============================] - 0s 8us/step - loss: 0.1234 - val_loss: 0.1166\n",
      "Epoch 281/300\n",
      "60000/60000 [==============================] - 0s 8us/step - loss: 0.1234 - val_loss: 0.1162\n",
      "Epoch 282/300\n",
      "60000/60000 [==============================] - 0s 8us/step - loss: 0.1234 - val_loss: 0.1164\n",
      "Epoch 283/300\n",
      "60000/60000 [==============================] - 0s 8us/step - loss: 0.1234 - val_loss: 0.1162\n",
      "Epoch 284/300\n",
      "60000/60000 [==============================] - 0s 8us/step - loss: 0.1234 - val_loss: 0.1166\n",
      "Epoch 285/300\n",
      "60000/60000 [==============================] - 0s 8us/step - loss: 0.1234 - val_loss: 0.1163\n",
      "Epoch 286/300\n",
      "60000/60000 [==============================] - 0s 8us/step - loss: 0.1233 - val_loss: 0.1167\n",
      "Epoch 287/300\n",
      "60000/60000 [==============================] - 0s 8us/step - loss: 0.1233 - val_loss: 0.1164\n",
      "Epoch 288/300\n",
      "60000/60000 [==============================] - 0s 8us/step - loss: 0.1233 - val_loss: 0.1164\n",
      "Epoch 289/300\n",
      "60000/60000 [==============================] - 0s 8us/step - loss: 0.1233 - val_loss: 0.1166\n",
      "Epoch 290/300\n",
      "60000/60000 [==============================] - 0s 8us/step - loss: 0.1233 - val_loss: 0.1164\n",
      "Epoch 291/300\n",
      "60000/60000 [==============================] - 0s 8us/step - loss: 0.1233 - val_loss: 0.1166\n",
      "Epoch 292/300\n",
      "60000/60000 [==============================] - 0s 8us/step - loss: 0.1232 - val_loss: 0.1170\n",
      "Epoch 293/300\n",
      "60000/60000 [==============================] - 0s 8us/step - loss: 0.1232 - val_loss: 0.1164\n",
      "Epoch 294/300\n",
      "60000/60000 [==============================] - 0s 8us/step - loss: 0.1232 - val_loss: 0.1167\n",
      "Epoch 295/300\n",
      "60000/60000 [==============================] - 0s 8us/step - loss: 0.1232 - val_loss: 0.1167\n",
      "Epoch 296/300\n",
      "60000/60000 [==============================] - 0s 8us/step - loss: 0.1232 - val_loss: 0.1163\n",
      "Epoch 297/300\n",
      "60000/60000 [==============================] - 0s 8us/step - loss: 0.1232 - val_loss: 0.1168\n",
      "Epoch 298/300\n",
      "60000/60000 [==============================] - 0s 8us/step - loss: 0.1231 - val_loss: 0.1167\n",
      "Epoch 299/300\n",
      "60000/60000 [==============================] - 0s 8us/step - loss: 0.1231 - val_loss: 0.1166\n",
      "Epoch 300/300\n",
      "60000/60000 [==============================] - 0s 8us/step - loss: 0.1231 - val_loss: 0.1169\n"
     ]
    },
    {
     "data": {
      "text/plain": [
       "<keras.callbacks.History at 0x7fd1730c6190>"
      ]
     },
     "execution_count": 15,
     "metadata": {},
     "output_type": "execute_result"
    }
   ],
   "source": [
    "autoencoder.fit(x_train, x_train,\n",
    "                epochs=300,\n",
    "                batch_size=512,\n",
    "                shuffle=True,\n",
    "                validation_data=(x_test, x_test))"
   ]
  },
  {
   "cell_type": "code",
   "execution_count": 16,
   "metadata": {},
   "outputs": [],
   "source": [
    "# encode and decode some digits\n",
    "# note that we take them from the *test* set\n",
    "encoded_imgs = encoder.predict(x_test)\n",
    "decoded_imgs = decoder.predict(encoded_imgs)"
   ]
  },
  {
   "cell_type": "code",
   "execution_count": 17,
   "metadata": {},
   "outputs": [
    {
     "data": {
      "image/png": "[encoded data removed]",
      "text/plain": [
       "<matplotlib.figure.Figure at 0x7fd172ec2110>"
      ]
     },
     "metadata": {},
     "output_type": "display_data"
    }
   ],
   "source": [
    "import matplotlib.pyplot as plt\n",
    "\n",
    "n = 10  # how many digits we will display\n",
    "plt.figure(figsize=(20, 4))\n",
    "for i in range(n):\n",
    "    # display original\n",
    "    ax = plt.subplot(2, n, i + 1)\n",
    "    plt.imshow(x_test[i].reshape(28, 28))\n",
    "    plt.gray()\n",
    "    ax.get_xaxis().set_visible(False)\n",
    "    ax.get_yaxis().set_visible(False)\n",
    "\n",
    "    # display reconstruction\n",
    "    ax = plt.subplot(2, n, i + 1 + n)\n",
    "    plt.imshow(decoded_imgs[i].reshape(28, 28))\n",
    "    plt.gray()\n",
    "    ax.get_xaxis().set_visible(False)\n",
    "    ax.get_yaxis().set_visible(False)\n",
    "plt.show()"
   ]
  },
  {
   "cell_type": "code",
   "execution_count": 18,
   "metadata": {},
   "outputs": [],
   "source": [
    "def acc(y_true, y_pred):\n",
    "    \"\"\"\n",
    "    Calculate clustering accuracy. Require scikit-learn installed\n",
    "    # Arguments\n",
    "        y: true labels, numpy.array with shape `(n_samples,)`\n",
    "        y_pred: predicted labels, numpy.array with shape `(n_samples,)`\n",
    "    # Return\n",
    "        accuracy, in [0,1]\n",
    "    \"\"\"\n",
    "    y_true = y_true.astype(np.int64)\n",
    "    assert y_pred.size == y_true.size\n",
    "    D = max(y_pred.max(), y_true.max()) + 1\n",
    "    print(D)\n",
    "    w = np.zeros((D, D), dtype=np.int64)\n",
    "    for i in range(y_pred.size):\n",
    "        w[y_pred[i], y_true[i]] += 1\n",
    "    print(w)\n",
    "    from sklearn.utils.linear_assignment_ import linear_assignment\n",
    "    ind = linear_assignment(w.max() - w)\n",
    "    print([w[i, j] for i, j in ind])\n",
    "    return sum([w[i, j] for i, j in ind]) * 1.0 / y_pred.size"
   ]
  },
  {
   "cell_type": "code",
   "execution_count": 19,
   "metadata": {},
   "outputs": [
    {
     "name": "stdout",
     "output_type": "stream",
     "text": [
      "3\n",
      "[[ 877 1073  737]\n",
      " [1593 1092  752]\n",
      " [ 920 1128 1828]]\n",
      "[1073, 1593, 1828]\n",
      "0.4494\n"
     ]
    },
    {
     "data": {
      "text/plain": [
       "(10000, 2)"
      ]
     },
     "execution_count": 19,
     "metadata": {},
     "output_type": "execute_result"
    }
   ],
   "source": [
    "from  sklearn import metrics\n",
    "from sklearn.cluster import KMeans\n",
    "result = np.zeros((len(y_test), 2))\n",
    "for index, item in enumerate(y_test):\n",
    "    result[index] = (y_test[index], np.max(encoded_imgs[index]))\n",
    "\n",
    "kmeans = KMeans(n_clusters=3, n_init=20)\n",
    "y_pred = kmeans.fit_predict((encoded_imgs))\n",
    "print(acc(y_test, y_pred))\n",
    "result.shape"
   ]
  },
  {
   "cell_type": "code",
   "execution_count": 20,
   "metadata": {
    "scrolled": false
   },
   "outputs": [
    {
     "name": "stdout",
     "output_type": "stream",
     "text": [
      "Train on 60000 samples, validate on 10000 samples\n",
      "Epoch 1/100\n",
      "60000/60000 [==============================] - 1s 21us/step - loss: 0.3391 - val_loss: 0.2950\n",
      "Epoch 2/100\n",
      "60000/60000 [==============================] - 1s 15us/step - loss: 0.2960 - val_loss: 0.2773\n",
      "Epoch 3/100\n",
      "60000/60000 [==============================] - 1s 15us/step - loss: 0.2780 - val_loss: 0.2562\n",
      "Epoch 4/100\n",
      "60000/60000 [==============================] - 1s 15us/step - loss: 0.2686 - val_loss: 0.2573\n",
      "Epoch 5/100\n",
      "60000/60000 [==============================] - 1s 15us/step - loss: 0.2649 - val_loss: 0.2398\n",
      "Epoch 6/100\n",
      "60000/60000 [==============================] - 1s 15us/step - loss: 0.2628 - val_loss: 0.2360\n",
      "Epoch 7/100\n",
      "60000/60000 [==============================] - 1s 15us/step - loss: 0.2610 - val_loss: 0.2293\n",
      "Epoch 8/100\n",
      "60000/60000 [==============================] - 1s 15us/step - loss: 0.2592 - val_loss: 0.2190\n",
      "Epoch 9/100\n",
      "60000/60000 [==============================] - 1s 15us/step - loss: 0.2573 - val_loss: 0.2187\n",
      "Epoch 10/100\n",
      "60000/60000 [==============================] - 1s 15us/step - loss: 0.2554 - val_loss: 0.2159\n",
      "Epoch 11/100\n",
      "60000/60000 [==============================] - 1s 15us/step - loss: 0.2516 - val_loss: 0.2118\n",
      "Epoch 12/100\n",
      "60000/60000 [==============================] - 1s 15us/step - loss: 0.2460 - val_loss: 0.2036\n",
      "Epoch 13/100\n",
      "60000/60000 [==============================] - 1s 15us/step - loss: 0.2423 - val_loss: 0.2072\n",
      "Epoch 14/100\n",
      "60000/60000 [==============================] - 1s 15us/step - loss: 0.2390 - val_loss: 0.1951\n",
      "Epoch 15/100\n",
      "60000/60000 [==============================] - 1s 15us/step - loss: 0.2321 - val_loss: 0.1981\n",
      "Epoch 16/100\n",
      "60000/60000 [==============================] - 1s 15us/step - loss: 0.2246 - val_loss: 0.1846\n",
      "Epoch 17/100\n",
      "60000/60000 [==============================] - 1s 15us/step - loss: 0.2184 - val_loss: 0.1832\n",
      "Epoch 18/100\n",
      "60000/60000 [==============================] - 1s 15us/step - loss: 0.2138 - val_loss: 0.1805\n",
      "Epoch 19/100\n",
      "60000/60000 [==============================] - 1s 15us/step - loss: 0.2088 - val_loss: 0.1827\n",
      "Epoch 20/100\n",
      "60000/60000 [==============================] - 1s 15us/step - loss: 0.2038 - val_loss: 0.1836\n",
      "Epoch 21/100\n",
      "60000/60000 [==============================] - 1s 15us/step - loss: 0.1986 - val_loss: 0.1811\n",
      "Epoch 22/100\n",
      "60000/60000 [==============================] - 1s 15us/step - loss: 0.1931 - val_loss: 0.1771\n",
      "Epoch 23/100\n",
      "60000/60000 [==============================] - 1s 15us/step - loss: 0.1881 - val_loss: 0.1742\n",
      "Epoch 24/100\n",
      "60000/60000 [==============================] - 1s 15us/step - loss: 0.1833 - val_loss: 0.1730\n",
      "Epoch 25/100\n",
      "60000/60000 [==============================] - 1s 15us/step - loss: 0.1786 - val_loss: 0.1641\n",
      "Epoch 26/100\n",
      "60000/60000 [==============================] - 1s 15us/step - loss: 0.1742 - val_loss: 0.1682\n",
      "Epoch 27/100\n",
      "60000/60000 [==============================] - 1s 15us/step - loss: 0.1693 - val_loss: 0.1614\n",
      "Epoch 28/100\n",
      "60000/60000 [==============================] - 1s 15us/step - loss: 0.1648 - val_loss: 0.1611\n",
      "Epoch 29/100\n",
      "60000/60000 [==============================] - 1s 15us/step - loss: 0.1598 - val_loss: 0.1589\n",
      "Epoch 30/100\n",
      "60000/60000 [==============================] - 1s 15us/step - loss: 0.1554 - val_loss: 0.1593\n",
      "Epoch 31/100\n",
      "60000/60000 [==============================] - 1s 15us/step - loss: 0.1517 - val_loss: 0.1577\n",
      "Epoch 32/100\n",
      "60000/60000 [==============================] - 1s 15us/step - loss: 0.1481 - val_loss: 0.1646\n",
      "Epoch 33/100\n",
      "60000/60000 [==============================] - 1s 15us/step - loss: 0.1446 - val_loss: 0.1581\n",
      "Epoch 34/100\n",
      "60000/60000 [==============================] - 1s 15us/step - loss: 0.1413 - val_loss: 0.1539\n",
      "Epoch 35/100\n",
      "60000/60000 [==============================] - 1s 15us/step - loss: 0.1380 - val_loss: 0.1495\n",
      "Epoch 36/100\n",
      "60000/60000 [==============================] - 1s 15us/step - loss: 0.1350 - val_loss: 0.1588\n",
      "Epoch 37/100\n",
      "60000/60000 [==============================] - 1s 15us/step - loss: 0.1318 - val_loss: 0.1593\n",
      "Epoch 38/100\n",
      "60000/60000 [==============================] - 1s 15us/step - loss: 0.1289 - val_loss: 0.1678\n",
      "Epoch 39/100\n",
      "60000/60000 [==============================] - 1s 15us/step - loss: 0.1261 - val_loss: 0.1585\n",
      "Epoch 40/100\n",
      "60000/60000 [==============================] - 1s 15us/step - loss: 0.1241 - val_loss: 0.1570\n",
      "Epoch 41/100\n",
      "60000/60000 [==============================] - 1s 15us/step - loss: 0.1217 - val_loss: 0.1602\n",
      "Epoch 42/100\n",
      "60000/60000 [==============================] - 1s 15us/step - loss: 0.1197 - val_loss: 0.1637\n",
      "Epoch 43/100\n",
      "60000/60000 [==============================] - 1s 15us/step - loss: 0.1176 - val_loss: 0.1677\n",
      "Epoch 44/100\n",
      "60000/60000 [==============================] - 1s 15us/step - loss: 0.1159 - val_loss: 0.1576\n",
      "Epoch 45/100\n",
      "60000/60000 [==============================] - 1s 15us/step - loss: 0.1146 - val_loss: 0.1595\n",
      "Epoch 46/100\n",
      "60000/60000 [==============================] - 1s 15us/step - loss: 0.1128 - val_loss: 0.1676\n",
      "Epoch 47/100\n",
      "60000/60000 [==============================] - 1s 15us/step - loss: 0.1114 - val_loss: 0.1651\n",
      "Epoch 48/100\n",
      "60000/60000 [==============================] - 1s 15us/step - loss: 0.1104 - val_loss: 0.1660\n",
      "Epoch 49/100\n",
      "60000/60000 [==============================] - 1s 15us/step - loss: 0.1089 - val_loss: 0.1558\n",
      "Epoch 50/100\n",
      "60000/60000 [==============================] - 1s 15us/step - loss: 0.1081 - val_loss: 0.1637\n",
      "Epoch 51/100\n",
      "60000/60000 [==============================] - 1s 15us/step - loss: 0.1071 - val_loss: 0.1612\n",
      "Epoch 52/100\n",
      "60000/60000 [==============================] - 1s 15us/step - loss: 0.1062 - val_loss: 0.1621\n",
      "Epoch 53/100\n",
      "60000/60000 [==============================] - 1s 15us/step - loss: 0.1051 - val_loss: 0.1664\n",
      "Epoch 54/100\n",
      "60000/60000 [==============================] - 1s 15us/step - loss: 0.1045 - val_loss: 0.1732\n",
      "Epoch 55/100\n",
      "60000/60000 [==============================] - 1s 15us/step - loss: 0.1038 - val_loss: 0.1605\n",
      "Epoch 56/100\n",
      "60000/60000 [==============================] - 1s 15us/step - loss: 0.1030 - val_loss: 0.1561\n",
      "Epoch 57/100\n",
      "60000/60000 [==============================] - 1s 15us/step - loss: 0.1024 - val_loss: 0.1666\n",
      "Epoch 58/100\n",
      "60000/60000 [==============================] - 1s 15us/step - loss: 0.1017 - val_loss: 0.1659\n",
      "Epoch 59/100\n",
      "60000/60000 [==============================] - 1s 15us/step - loss: 0.1012 - val_loss: 0.1530\n",
      "Epoch 60/100\n",
      "60000/60000 [==============================] - 1s 15us/step - loss: 0.1004 - val_loss: 0.1546\n",
      "Epoch 61/100\n",
      "60000/60000 [==============================] - 1s 15us/step - loss: 0.0998 - val_loss: 0.1465\n",
      "Epoch 62/100\n",
      "60000/60000 [==============================] - 1s 15us/step - loss: 0.0995 - val_loss: 0.1460\n",
      "Epoch 63/100\n",
      "60000/60000 [==============================] - 1s 15us/step - loss: 0.0988 - val_loss: 0.1590\n",
      "Epoch 64/100\n",
      "60000/60000 [==============================] - 1s 15us/step - loss: 0.0983 - val_loss: 0.1603\n",
      "Epoch 65/100\n",
      "60000/60000 [==============================] - 1s 15us/step - loss: 0.0980 - val_loss: 0.1445\n",
      "Epoch 66/100\n",
      "60000/60000 [==============================] - 1s 15us/step - loss: 0.0973 - val_loss: 0.1586\n",
      "Epoch 67/100\n",
      "60000/60000 [==============================] - 1s 16us/step - loss: 0.0968 - val_loss: 0.1436\n",
      "Epoch 68/100\n",
      "60000/60000 [==============================] - 1s 15us/step - loss: 0.0966 - val_loss: 0.1471\n",
      "Epoch 69/100\n",
      "60000/60000 [==============================] - 1s 15us/step - loss: 0.0961 - val_loss: 0.1592\n",
      "Epoch 70/100\n",
      "60000/60000 [==============================] - 1s 15us/step - loss: 0.0957 - val_loss: 0.1494\n",
      "Epoch 71/100\n",
      "60000/60000 [==============================] - 1s 15us/step - loss: 0.0954 - val_loss: 0.1431\n",
      "Epoch 72/100\n",
      "60000/60000 [==============================] - 1s 15us/step - loss: 0.0950 - val_loss: 0.1398\n",
      "Epoch 73/100\n",
      "60000/60000 [==============================] - 1s 15us/step - loss: 0.0945 - val_loss: 0.1535\n",
      "Epoch 74/100\n",
      "60000/60000 [==============================] - 1s 15us/step - loss: 0.0945 - val_loss: 0.1483\n",
      "Epoch 75/100\n",
      "60000/60000 [==============================] - 1s 15us/step - loss: 0.0940 - val_loss: 0.1475\n",
      "Epoch 76/100\n",
      "60000/60000 [==============================] - 1s 15us/step - loss: 0.0936 - val_loss: 0.1520\n",
      "Epoch 77/100\n"
     ]
    },
    {
     "name": "stdout",
     "output_type": "stream",
     "text": [
      "60000/60000 [==============================] - 1s 15us/step - loss: 0.0934 - val_loss: 0.1436\n",
      "Epoch 78/100\n",
      "60000/60000 [==============================] - 1s 15us/step - loss: 0.0931 - val_loss: 0.1440\n",
      "Epoch 79/100\n",
      "60000/60000 [==============================] - 1s 15us/step - loss: 0.0927 - val_loss: 0.1425\n",
      "Epoch 80/100\n",
      "60000/60000 [==============================] - 1s 15us/step - loss: 0.0925 - val_loss: 0.1476\n",
      "Epoch 81/100\n",
      "60000/60000 [==============================] - 1s 15us/step - loss: 0.0923 - val_loss: 0.1446\n",
      "Epoch 82/100\n",
      "60000/60000 [==============================] - 1s 15us/step - loss: 0.0920 - val_loss: 0.1464\n",
      "Epoch 83/100\n",
      "60000/60000 [==============================] - 1s 15us/step - loss: 0.0919 - val_loss: 0.1464\n",
      "Epoch 84/100\n",
      "60000/60000 [==============================] - 1s 15us/step - loss: 0.0915 - val_loss: 0.1478\n",
      "Epoch 85/100\n",
      "60000/60000 [==============================] - 1s 15us/step - loss: 0.0913 - val_loss: 0.1472\n",
      "Epoch 86/100\n",
      "60000/60000 [==============================] - 1s 15us/step - loss: 0.0910 - val_loss: 0.1540\n",
      "Epoch 87/100\n",
      "60000/60000 [==============================] - 1s 15us/step - loss: 0.0909 - val_loss: 0.1438\n",
      "Epoch 88/100\n",
      "60000/60000 [==============================] - 1s 15us/step - loss: 0.0908 - val_loss: 0.1459\n",
      "Epoch 89/100\n",
      "60000/60000 [==============================] - 1s 15us/step - loss: 0.0903 - val_loss: 0.1406\n",
      "Epoch 90/100\n",
      "60000/60000 [==============================] - 1s 15us/step - loss: 0.0901 - val_loss: 0.1436\n",
      "Epoch 91/100\n",
      "60000/60000 [==============================] - 1s 15us/step - loss: 0.0901 - val_loss: 0.1365\n",
      "Epoch 92/100\n",
      "60000/60000 [==============================] - 1s 16us/step - loss: 0.0898 - val_loss: 0.1395\n",
      "Epoch 93/100\n",
      "60000/60000 [==============================] - 1s 16us/step - loss: 0.0896 - val_loss: 0.1421\n",
      "Epoch 94/100\n",
      "60000/60000 [==============================] - 1s 16us/step - loss: 0.0896 - val_loss: 0.1418\n",
      "Epoch 95/100\n",
      "60000/60000 [==============================] - 1s 16us/step - loss: 0.0892 - val_loss: 0.1486\n",
      "Epoch 96/100\n",
      "60000/60000 [==============================] - 1s 16us/step - loss: 0.0890 - val_loss: 0.1422\n",
      "Epoch 97/100\n",
      "60000/60000 [==============================] - 1s 15us/step - loss: 0.0889 - val_loss: 0.1412\n",
      "Epoch 98/100\n",
      "60000/60000 [==============================] - 1s 16us/step - loss: 0.0887 - val_loss: 0.1449\n",
      "Epoch 99/100\n",
      "60000/60000 [==============================] - 1s 15us/step - loss: 0.0887 - val_loss: 0.1406\n",
      "Epoch 100/100\n",
      "60000/60000 [==============================] - 1s 16us/step - loss: 0.0886 - val_loss: 0.1441\n"
     ]
    },
    {
     "data": {
      "text/plain": [
       "<keras.callbacks.History at 0x7fd0c800cc10>"
      ]
     },
     "execution_count": 20,
     "metadata": {},
     "output_type": "execute_result"
    }
   ],
   "source": [
    "input_img = Input(shape=(784,))\n",
    "encoded = Dense(512, activation='relu')(input_img)\n",
    "encoded = Dense(256, activation='relu')(encoded)\n",
    "encoded = Dense(128, activation='relu')(encoded)\n",
    "encoded = Dense(64, activation='relu')(encoded)\n",
    "encoded = Dense(32, activation='relu')(encoded)\n",
    "\n",
    "decoded = Dense(64, activation='relu')(encoded)\n",
    "decoded = Dense(128, activation='relu')(decoded)\n",
    "decoded = Dense(256, activation='relu')(decoded)\n",
    "decoded = Dense(512, activation='relu')(decoded)\n",
    "decoded = Dense(784, activation='sigmoid')(decoded)\n",
    "\n",
    "autoencoder = Model(input_img, decoded)\n",
    "autoencoder.compile(optimizer='adadelta', loss='binary_crossentropy')\n",
    "\n",
    "autoencoder.fit(x_train, x_train,\n",
    "                epochs=100,\n",
    "                batch_size=256,\n",
    "                shuffle=True,\n",
    "                validation_data=(x_test, x_test))"
   ]
  },
  {
   "cell_type": "code",
   "execution_count": null,
   "metadata": {},
   "outputs": [],
   "source": []
  },
  {
   "cell_type": "code",
   "execution_count": 21,
   "metadata": {},
   "outputs": [
    {
     "data": {
      "image/png": "[encoded data removed]",
      "text/plain": [
       "<matplotlib.figure.Figure at 0x7fd0c8ba0910>"
      ]
     },
     "metadata": {},
     "output_type": "display_data"
    }
   ],
   "source": [
    "# encode and decode some digits\n",
    "# note that we take them from the *test* set\n",
    "encoded_imgs = autoencoder.predict(x_test)\n",
    "decoded_imgs = autoencoder.predict(encoded_imgs)\n",
    "\n",
    "\n",
    "n = 10  # how many digits we will display\n",
    "plt.figure(figsize=(20, 4))\n",
    "for i in range(n):\n",
    "    # display original\n",
    "    ax = plt.subplot(2, n, i + 1)\n",
    "    plt.imshow(x_test[i].reshape(28, 28))\n",
    "    plt.gray()\n",
    "    ax.get_xaxis().set_visible(False)\n",
    "    ax.get_yaxis().set_visible(False)\n",
    "\n",
    "    # display reconstruction\n",
    "    ax = plt.subplot(2, n, i + 1 + n)\n",
    "    plt.imshow(decoded_imgs[i].reshape(28, 28))\n",
    "    plt.gray()\n",
    "    ax.get_xaxis().set_visible(False)\n",
    "    ax.get_yaxis().set_visible(False)\n",
    "plt.show()"
   ]
  },
  {
   "cell_type": "code",
   "execution_count": 22,
   "metadata": {},
   "outputs": [
    {
     "name": "stdout",
     "output_type": "stream",
     "text": [
      "3\n",
      "[[1918 1467 1090]\n",
      " [1472 1092  782]\n",
      " [   0  734 1445]]\n",
      "[1918, 1092, 1445]\n",
      "0.4455\n"
     ]
    },
    {
     "data": {
      "text/plain": [
       "(10000, 2)"
      ]
     },
     "execution_count": 22,
     "metadata": {},
     "output_type": "execute_result"
    }
   ],
   "source": [
    "kmeans = KMeans(n_clusters=3, n_init=20)\n",
    "y_pred = kmeans.fit_predict((encoded_imgs))\n",
    "print(acc(y_test, y_pred))\n",
    "result.shape"
   ]
  },
  {
   "cell_type": "code",
   "execution_count": 23,
   "metadata": {},
   "outputs": [],
   "source": [
    "x_train = np.reshape(x_train, (len(x_train), 28, 28, 1))  # adapt this if using `channels_first` image data format\n",
    "x_test = np.reshape(x_test, (len(x_test), 28, 28, 1))  # adapt this if using `channels_first` image data format"
   ]
  },
  {
   "cell_type": "code",
   "execution_count": 24,
   "metadata": {},
   "outputs": [],
   "source": [
    "from keras.layers import Input, Dense, Conv2D, MaxPooling2D, UpSampling2D\n",
    "from keras.models import Model\n",
    "from keras import backend as K\n",
    "\n",
    "input_img = Input(shape=(28, 28, 1))  # adapt this if using `channels_first` image data format\n",
    "\n",
    "x = Conv2D(16, (3, 3), activation='relu', padding='same')(input_img)\n",
    "x = MaxPooling2D((2, 2), padding='same')(x)\n",
    "x = Conv2D(8, (3, 3), activation='relu', padding='same')(x)\n",
    "x = MaxPooling2D((2, 2), padding='same')(x)\n",
    "x = Conv2D(8, (3, 3), activation='relu', padding='same')(x)\n",
    "encoded = MaxPooling2D((2, 2), padding='same')(x)\n",
    "\n",
    "# at this point the representation is (4, 4, 8) i.e. 128-dimensional\n",
    "\n",
    "x = Conv2D(8, (3, 3), activation='relu', padding='same')(encoded)\n",
    "x = UpSampling2D((2, 2))(x)\n",
    "x = Conv2D(8, (3, 3), activation='relu', padding='same')(x)\n",
    "x = UpSampling2D((2, 2))(x)\n",
    "x = Conv2D(16, (3, 3), activation='relu')(x)\n",
    "x = UpSampling2D((2, 2))(x)\n",
    "decoded = Conv2D(1, (3, 3), activation='sigmoid', padding='same')(x)\n",
    "\n",
    "autoencoder = Model(input_img, decoded)\n",
    "autoencoder.compile(optimizer='adadelta', loss='binary_crossentropy')"
   ]
  },
  {
   "cell_type": "code",
   "execution_count": 25,
   "metadata": {},
   "outputs": [
    {
     "name": "stdout",
     "output_type": "stream",
     "text": [
      "Train on 60000 samples, validate on 10000 samples\n",
      "Epoch 1/50\n",
      "60000/60000 [==============================] - 3s 53us/step - loss: 0.3023 - val_loss: 0.1871\n",
      "Epoch 2/50\n",
      "60000/60000 [==============================] - 2s 34us/step - loss: 0.2051 - val_loss: 0.1553\n",
      "Epoch 3/50\n",
      "60000/60000 [==============================] - 2s 34us/step - loss: 0.1735 - val_loss: 0.1430\n",
      "Epoch 4/50\n",
      "60000/60000 [==============================] - 2s 34us/step - loss: 0.1561 - val_loss: 0.1311\n",
      "Epoch 5/50\n",
      "60000/60000 [==============================] - 2s 34us/step - loss: 0.1461 - val_loss: 0.1274\n",
      "Epoch 6/50\n",
      "60000/60000 [==============================] - 2s 34us/step - loss: 0.1390 - val_loss: 0.1232\n",
      "Epoch 7/50\n",
      "60000/60000 [==============================] - 2s 34us/step - loss: 0.1333 - val_loss: 0.1228\n",
      "Epoch 8/50\n",
      "60000/60000 [==============================] - 2s 34us/step - loss: 0.1295 - val_loss: 0.1213\n",
      "Epoch 9/50\n",
      "60000/60000 [==============================] - 2s 34us/step - loss: 0.1266 - val_loss: 0.1209\n",
      "Epoch 10/50\n",
      "60000/60000 [==============================] - 2s 34us/step - loss: 0.1235 - val_loss: 0.1178\n",
      "Epoch 11/50\n",
      "60000/60000 [==============================] - 2s 34us/step - loss: 0.1220 - val_loss: 0.1164\n",
      "Epoch 12/50\n",
      "60000/60000 [==============================] - 2s 34us/step - loss: 0.1204 - val_loss: 0.1155\n",
      "Epoch 13/50\n",
      "60000/60000 [==============================] - 2s 34us/step - loss: 0.1196 - val_loss: 0.1139\n",
      "Epoch 14/50\n",
      "60000/60000 [==============================] - 2s 34us/step - loss: 0.1185 - val_loss: 0.1126\n",
      "Epoch 15/50\n",
      "60000/60000 [==============================] - 2s 34us/step - loss: 0.1179 - val_loss: 0.1130\n",
      "Epoch 16/50\n",
      "60000/60000 [==============================] - 2s 34us/step - loss: 0.1170 - val_loss: 0.1127\n",
      "Epoch 17/50\n",
      "60000/60000 [==============================] - 2s 34us/step - loss: 0.1152 - val_loss: 0.1107\n",
      "Epoch 18/50\n",
      "60000/60000 [==============================] - 2s 34us/step - loss: 0.1139 - val_loss: 0.1077\n",
      "Epoch 19/50\n",
      "60000/60000 [==============================] - 2s 34us/step - loss: 0.1136 - val_loss: 0.1090\n",
      "Epoch 20/50\n",
      "60000/60000 [==============================] - 2s 34us/step - loss: 0.1129 - val_loss: 0.1085\n",
      "Epoch 21/50\n",
      "60000/60000 [==============================] - 2s 34us/step - loss: 0.1121 - val_loss: 0.1075\n",
      "Epoch 22/50\n",
      "60000/60000 [==============================] - 2s 34us/step - loss: 0.1121 - val_loss: 0.1054\n",
      "Epoch 23/50\n",
      "60000/60000 [==============================] - 2s 34us/step - loss: 0.1115 - val_loss: 0.1051\n",
      "Epoch 24/50\n",
      "60000/60000 [==============================] - 2s 34us/step - loss: 0.1106 - val_loss: 0.1044\n",
      "Epoch 25/50\n",
      "60000/60000 [==============================] - 2s 34us/step - loss: 0.1105 - val_loss: 0.1043\n",
      "Epoch 26/50\n",
      "60000/60000 [==============================] - 2s 34us/step - loss: 0.1096 - val_loss: 0.1034\n",
      "Epoch 27/50\n",
      "60000/60000 [==============================] - 2s 34us/step - loss: 0.1092 - val_loss: 0.1039\n",
      "Epoch 28/50\n",
      "60000/60000 [==============================] - 2s 34us/step - loss: 0.1083 - val_loss: 0.1023\n",
      "Epoch 29/50\n",
      "60000/60000 [==============================] - 2s 35us/step - loss: 0.1085 - val_loss: 0.1015\n",
      "Epoch 30/50\n",
      "60000/60000 [==============================] - 2s 34us/step - loss: 0.1080 - val_loss: 0.1003\n",
      "Epoch 31/50\n",
      "60000/60000 [==============================] - 2s 34us/step - loss: 0.1076 - val_loss: 0.1009\n",
      "Epoch 32/50\n",
      "60000/60000 [==============================] - 2s 34us/step - loss: 0.1071 - val_loss: 0.1009\n",
      "Epoch 33/50\n",
      "60000/60000 [==============================] - 2s 34us/step - loss: 0.1064 - val_loss: 0.1005\n",
      "Epoch 34/50\n",
      "60000/60000 [==============================] - 2s 34us/step - loss: 0.1060 - val_loss: 0.1028\n",
      "Epoch 35/50\n",
      "60000/60000 [==============================] - 2s 34us/step - loss: 0.1054 - val_loss: 0.0992\n",
      "Epoch 36/50\n",
      "60000/60000 [==============================] - 2s 34us/step - loss: 0.1055 - val_loss: 0.0996\n",
      "Epoch 37/50\n",
      "60000/60000 [==============================] - 2s 34us/step - loss: 0.1051 - val_loss: 0.0988\n",
      "Epoch 38/50\n",
      "60000/60000 [==============================] - 2s 34us/step - loss: 0.1049 - val_loss: 0.0987\n",
      "Epoch 39/50\n",
      "60000/60000 [==============================] - 2s 34us/step - loss: 0.1046 - val_loss: 0.0987\n",
      "Epoch 40/50\n",
      "60000/60000 [==============================] - 2s 34us/step - loss: 0.1044 - val_loss: 0.0981\n",
      "Epoch 41/50\n",
      "60000/60000 [==============================] - 2s 34us/step - loss: 0.1039 - val_loss: 0.0993\n",
      "Epoch 42/50\n",
      "60000/60000 [==============================] - 2s 34us/step - loss: 0.1039 - val_loss: 0.0980\n",
      "Epoch 43/50\n",
      "60000/60000 [==============================] - 2s 34us/step - loss: 0.1037 - val_loss: 0.0977\n",
      "Epoch 44/50\n",
      "60000/60000 [==============================] - 2s 34us/step - loss: 0.1031 - val_loss: 0.0960\n",
      "Epoch 45/50\n",
      "60000/60000 [==============================] - 2s 37us/step - loss: 0.1028 - val_loss: 0.0980\n",
      "Epoch 46/50\n",
      "60000/60000 [==============================] - 2s 35us/step - loss: 0.1028 - val_loss: 0.0977\n",
      "Epoch 47/50\n",
      "60000/60000 [==============================] - 2s 34us/step - loss: 0.1027 - val_loss: 0.0961\n",
      "Epoch 48/50\n",
      "60000/60000 [==============================] - 2s 34us/step - loss: 0.1027 - val_loss: 0.0965\n",
      "Epoch 49/50\n",
      "60000/60000 [==============================] - 2s 34us/step - loss: 0.1025 - val_loss: 0.0969\n",
      "Epoch 50/50\n",
      "60000/60000 [==============================] - 2s 34us/step - loss: 0.1020 - val_loss: 0.0979\n"
     ]
    },
    {
     "data": {
      "text/plain": [
       "<keras.callbacks.History at 0x7fd0c8ba05d0>"
      ]
     },
     "execution_count": 25,
     "metadata": {},
     "output_type": "execute_result"
    }
   ],
   "source": [
    "from keras.callbacks import TensorBoard\n",
    "\n",
    "autoencoder.fit(x_train, x_train,\n",
    "                epochs=50,\n",
    "                batch_size=128,\n",
    "                shuffle=True,\n",
    "                validation_data=(x_test, x_test),\n",
    "                callbacks=[TensorBoard(log_dir='/tmp/autoencoder')])"
   ]
  },
  {
   "cell_type": "code",
   "execution_count": 26,
   "metadata": {},
   "outputs": [
    {
     "data": {
      "image/png": "[encoded data removed]",
      "text/plain": [
       "<matplotlib.figure.Figure at 0x7fd0b6102a90>"
      ]
     },
     "metadata": {},
     "output_type": "display_data"
    }
   ],
   "source": [
    "# encode and decode some digits\n",
    "# note that we take them from the *test* set\n",
    "encoded_imgs = autoencoder.predict(x_test)\n",
    "decoded_imgs = autoencoder.predict(encoded_imgs)\n",
    "\n",
    "\n",
    "n = 10  # how many digits we will display\n",
    "plt.figure(figsize=(20, 4))\n",
    "for i in range(n):\n",
    "    # display original\n",
    "    ax = plt.subplot(2, n, i + 1)\n",
    "    plt.imshow(x_test[i].reshape(28, 28))\n",
    "    plt.gray()\n",
    "    ax.get_xaxis().set_visible(False)\n",
    "    ax.get_yaxis().set_visible(False)\n",
    "\n",
    "    # display reconstruction\n",
    "    ax = plt.subplot(2, n, i + 1 + n)\n",
    "    plt.imshow(decoded_imgs[i].reshape(28, 28))\n",
    "    plt.gray()\n",
    "    ax.get_xaxis().set_visible(False)\n",
    "    ax.get_yaxis().set_visible(False)\n",
    "plt.show()"
   ]
  },
  {
   "cell_type": "code",
   "execution_count": 27,
   "metadata": {},
   "outputs": [],
   "source": [
    "encoded_imgs = np.reshape(encoded_imgs, (len(x_test), 28*28*1))  # adapt this if using `channels_first` image data format\n"
   ]
  },
  {
   "cell_type": "code",
   "execution_count": 28,
   "metadata": {},
   "outputs": [
    {
     "name": "stdout",
     "output_type": "stream",
     "text": [
      "1 loop, best of 3: 5.49 s per loop\n"
     ]
    }
   ],
   "source": [
    "%%timeit\n",
    "kmeans = KMeans(n_clusters=3, n_init=20)\n",
    "y_pred = kmeans.fit_predict((encoded_imgs))"
   ]
  },
  {
   "cell_type": "code",
   "execution_count": 29,
   "metadata": {},
   "outputs": [
    {
     "name": "stdout",
     "output_type": "stream",
     "text": [
      "3\n",
      "[[1918 1467 1090]\n",
      " [1472 1092  782]\n",
      " [   0  734 1445]]\n",
      "[1918, 1092, 1445]\n",
      "0.4455\n"
     ]
    },
    {
     "data": {
      "text/plain": [
       "(10000, 2)"
      ]
     },
     "execution_count": 29,
     "metadata": {},
     "output_type": "execute_result"
    }
   ],
   "source": [
    "print(acc(y_test, y_pred))\n",
    "result.shape"
   ]
  },
  {
   "cell_type": "code",
   "execution_count": 30,
   "metadata": {},
   "outputs": [],
   "source": [
    "x_train = np.reshape(x_train, (len(x_train), 28*28*1))  # adapt this if using `channels_first` image data format\n",
    "x_test = np.reshape(x_test, (len(x_test), 28*28*1))  # adapt this if using `channels_first` image data format\n",
    "est = KMeans(n_clusters=3, n_jobs=20)\n",
    "y_pred = est.fit(x_train).predict(x_test)"
   ]
  },
  {
   "cell_type": "code",
   "execution_count": 31,
   "metadata": {},
   "outputs": [
    {
     "name": "stdout",
     "output_type": "stream",
     "text": [
      "3\n",
      "[[ 457  557 1424]\n",
      " [ 278  915  677]\n",
      " [2655 1821 1216]]\n",
      "[1424, 915, 2655]\n",
      "0.4994\n"
     ]
    }
   ],
   "source": [
    "print(acc(y_test, y_pred))"
   ]
  },
  {
   "cell_type": "code",
   "execution_count": 32,
   "metadata": {},
   "outputs": [],
   "source": [
    "from sklearn.decomposition import PCA\n",
    "from sklearn.cluster import KMeans"
   ]
  },
  {
   "cell_type": "code",
   "execution_count": 33,
   "metadata": {},
   "outputs": [
    {
     "name": "stderr",
     "output_type": "stream",
     "text": [
      "/usr/local/lib/python2.7/dist-packages/sklearn/cluster/k_means_.py:893: RuntimeWarning: Explicit initial center position passed: performing only one init in k-means instead of n_init=20\n",
      "  return_n_iter=True)\n"
     ]
    },
    {
     "name": "stdout",
     "output_type": "stream",
     "text": [
      "1 loop, best of 3: 4.85 s per loop\n"
     ]
    }
   ],
   "source": [
    "%%timeit\n",
    "pca = PCA(n_components=3).fit(x_train)\n",
    "est = KMeans(init=pca.components_, n_clusters=3, n_init=20)\n",
    "y_pred = est.fit(x_train).predict(x_test)"
   ]
  },
  {
   "cell_type": "code",
   "execution_count": 34,
   "metadata": {},
   "outputs": [
    {
     "name": "stdout",
     "output_type": "stream",
     "text": [
      "3\n",
      "[[ 457  557 1424]\n",
      " [ 278  915  677]\n",
      " [2655 1821 1216]]\n",
      "[1424, 915, 2655]\n",
      "0.4994\n"
     ]
    }
   ],
   "source": [
    "print(acc(y_test, y_pred))"
   ]
  },
  {
   "cell_type": "code",
   "execution_count": 35,
   "metadata": {},
   "outputs": [
    {
     "name": "stdout",
     "output_type": "stream",
     "text": [
      "Doing PCA would improve performance by 12.18\n"
     ]
    }
   ],
   "source": [
    "print \"Doing PCA would improve performance by\", np.round(((5.5-4.83)/5.5)*100, 2)"
   ]
  },
  {
   "cell_type": "code",
   "execution_count": 36,
   "metadata": {},
   "outputs": [],
   "source": [
    "from keras.applications.inception_v3 import InceptionV3\n",
    "from keras.preprocessing import image\n",
    "from keras.models import Model\n",
    "from keras.layers import Dense, GlobalAveragePooling2D\n",
    "from keras import backend as K\n",
    "from keras.preprocessing.image import ImageDataGenerator"
   ]
  },
  {
   "cell_type": "code",
   "execution_count": 37,
   "metadata": {},
   "outputs": [
    {
     "data": {
      "text/plain": [
       "['/job:localhost/replica:0/task:0/device:GPU:0']"
      ]
     },
     "execution_count": 37,
     "metadata": {},
     "output_type": "execute_result"
    }
   ],
   "source": [
    "from keras import backend as K\n",
    "K.tensorflow_backend._get_available_gpus()"
   ]
  },
  {
   "cell_type": "code",
   "execution_count": 38,
   "metadata": {},
   "outputs": [
    {
     "name": "stdout",
     "output_type": "stream",
     "text": [
      "[name: \"/device:CPU:0\"\n",
      "device_type: \"CPU\"\n",
      "memory_limit: 268435456\n",
      "locality {\n",
      "}\n",
      "incarnation: 3210299770320450676\n",
      ", name: \"/device:GPU:0\"\n",
      "device_type: \"GPU\"\n",
      "memory_limit: 7422230528\n",
      "locality {\n",
      "  bus_id: 1\n",
      "  links {\n",
      "  }\n",
      "}\n",
      "incarnation: 915310821641542645\n",
      "physical_device_desc: \"device: 0, name: GeForce GTX 1080, pci bus id: 0000:01:00.0, compute capability: 6.1\"\n",
      "]\n"
     ]
    }
   ],
   "source": [
    "from tensorflow.python.client import device_lib\n",
    "print(device_lib.list_local_devices())"
   ]
  },
  {
   "cell_type": "code",
   "execution_count": 39,
   "metadata": {},
   "outputs": [],
   "source": [
    "import tensorflow as tf\n",
    "sess = tf.Session(config=tf.ConfigProto(log_device_placement=True))"
   ]
  },
  {
   "cell_type": "code",
   "execution_count": 40,
   "metadata": {},
   "outputs": [
    {
     "name": "stdout",
     "output_type": "stream",
     "text": [
      "WARNING:tensorflow:From /usr/local/lib/python2.7/dist-packages/keras/backend/tensorflow_backend.py:2885: calling reduce_sum (from tensorflow.python.ops.math_ops) with keep_dims is deprecated and will be removed in a future version.\n",
      "Instructions for updating:\n",
      "keep_dims is deprecated, use keepdims instead\n"
     ]
    }
   ],
   "source": [
    "\n",
    "# create the base pre-trained model\n",
    "base_model = InceptionV3(weights='imagenet', include_top=False)\n",
    "\n",
    "# add a global spatial average pooling layer\n",
    "x = base_model.output\n",
    "x = GlobalAveragePooling2D()(x)\n",
    "# let's add a fully-connected layer\n",
    "x = Dense(1024, activation='relu')(x)\n",
    "# and a logistic layer -- let's say we have 200 classes\n",
    "predictions = Dense(200, activation='softmax')(x)\n",
    "\n",
    "# this is the model we will train\n",
    "model = Model(inputs=base_model.input, outputs=predictions)\n",
    "\n",
    "# first: train only the top layers (which were randomly initialized)\n",
    "# i.e. freeze all convolutional InceptionV3 layers\n",
    "for layer in base_model.layers:\n",
    "    layer.trainable = False\n",
    "\n",
    "# compile the model (should be done *after* setting layers to non-trainable)\n",
    "model.compile(optimizer='rmsprop', loss='categorical_crossentropy')\n"
   ]
  },
  {
   "cell_type": "code",
   "execution_count": 41,
   "metadata": {},
   "outputs": [],
   "source": [
    "x_train = np.reshape(x_train, (len(x_train), 28,28, 1))  # adapt this if using `channels_first` image data format\n",
    "x_test = np.reshape(x_test, (len(x_test), 28,28, 1))  "
   ]
  },
  {
   "cell_type": "code",
   "execution_count": 42,
   "metadata": {},
   "outputs": [
    {
     "ename": "ValueError",
     "evalue": "Error when checking input: expected input_5 to have shape (None, None, None, 3) but got array with shape (60000, 28, 28, 1)",
     "output_type": "error",
     "traceback": [
      "\u001b[0;31m\u001b[0m",
      "\u001b[0;31mValueError\u001b[0mTraceback (most recent call last)",
      "\u001b[0;32m<ipython-input-42-61c9452e65d5>\u001b[0m in \u001b[0;36m<module>\u001b[0;34m()\u001b[0m\n\u001b[1;32m     12\u001b[0m \u001b[0mu\u001b[0m \u001b[0;34m=\u001b[0m \u001b[0mdatagen\u001b[0m\u001b[0;34m.\u001b[0m\u001b[0mflow\u001b[0m\u001b[0;34m(\u001b[0m\u001b[0mx_train\u001b[0m\u001b[0;34m,\u001b[0m \u001b[0my_train\u001b[0m\u001b[0;34m,\u001b[0m \u001b[0mbatch_size\u001b[0m\u001b[0;34m=\u001b[0m\u001b[0;36m32\u001b[0m\u001b[0;34m)\u001b[0m\u001b[0;34m\u001b[0m\u001b[0m\n\u001b[1;32m     13\u001b[0m \u001b[0;34m\u001b[0m\u001b[0m\n\u001b[0;32m---> 14\u001b[0;31m \u001b[0mmodel\u001b[0m\u001b[0;34m.\u001b[0m\u001b[0mfit\u001b[0m\u001b[0;34m(\u001b[0m\u001b[0mx\u001b[0m\u001b[0;34m=\u001b[0m\u001b[0mx_train\u001b[0m\u001b[0;34m,\u001b[0m \u001b[0my\u001b[0m\u001b[0;34m=\u001b[0m\u001b[0my_train\u001b[0m\u001b[0;34m,\u001b[0m \u001b[0mbatch_size\u001b[0m \u001b[0;34m=\u001b[0m \u001b[0mbatch_size\u001b[0m\u001b[0;34m,\u001b[0m \u001b[0mepochs\u001b[0m \u001b[0;34m=\u001b[0m \u001b[0;36m3\u001b[0m\u001b[0;34m)\u001b[0m\u001b[0;34m\u001b[0m\u001b[0m\n\u001b[0m",
      "\u001b[0;32m/usr/local/lib/python2.7/dist-packages/keras/engine/training.pyc\u001b[0m in \u001b[0;36mfit\u001b[0;34m(self, x, y, batch_size, epochs, verbose, callbacks, validation_split, validation_data, shuffle, class_weight, sample_weight, initial_epoch, steps_per_epoch, validation_steps, **kwargs)\u001b[0m\n\u001b[1;32m   1579\u001b[0m             \u001b[0mclass_weight\u001b[0m\u001b[0;34m=\u001b[0m\u001b[0mclass_weight\u001b[0m\u001b[0;34m,\u001b[0m\u001b[0;34m\u001b[0m\u001b[0m\n\u001b[1;32m   1580\u001b[0m             \u001b[0mcheck_batch_axis\u001b[0m\u001b[0;34m=\u001b[0m\u001b[0mFalse\u001b[0m\u001b[0;34m,\u001b[0m\u001b[0;34m\u001b[0m\u001b[0m\n\u001b[0;32m-> 1581\u001b[0;31m             batch_size=batch_size)\n\u001b[0m\u001b[1;32m   1582\u001b[0m         \u001b[0;31m# Prepare validation data.\u001b[0m\u001b[0;34m\u001b[0m\u001b[0;34m\u001b[0m\u001b[0m\n\u001b[1;32m   1583\u001b[0m         \u001b[0mdo_validation\u001b[0m \u001b[0;34m=\u001b[0m \u001b[0mFalse\u001b[0m\u001b[0;34m\u001b[0m\u001b[0m\n",
      "\u001b[0;32m/usr/local/lib/python2.7/dist-packages/keras/engine/training.pyc\u001b[0m in \u001b[0;36m_standardize_user_data\u001b[0;34m(self, x, y, sample_weight, class_weight, check_batch_axis, batch_size)\u001b[0m\n\u001b[1;32m   1412\u001b[0m                                     \u001b[0mself\u001b[0m\u001b[0;34m.\u001b[0m\u001b[0m_feed_input_shapes\u001b[0m\u001b[0;34m,\u001b[0m\u001b[0;34m\u001b[0m\u001b[0m\n\u001b[1;32m   1413\u001b[0m                                     \u001b[0mcheck_batch_axis\u001b[0m\u001b[0;34m=\u001b[0m\u001b[0mFalse\u001b[0m\u001b[0;34m,\u001b[0m\u001b[0;34m\u001b[0m\u001b[0m\n\u001b[0;32m-> 1414\u001b[0;31m                                     exception_prefix='input')\n\u001b[0m\u001b[1;32m   1415\u001b[0m         y = _standardize_input_data(y, self._feed_output_names,\n\u001b[1;32m   1416\u001b[0m                                     \u001b[0moutput_shapes\u001b[0m\u001b[0;34m,\u001b[0m\u001b[0;34m\u001b[0m\u001b[0m\n",
      "\u001b[0;32m/usr/local/lib/python2.7/dist-packages/keras/engine/training.pyc\u001b[0m in \u001b[0;36m_standardize_input_data\u001b[0;34m(data, names, shapes, check_batch_axis, exception_prefix)\u001b[0m\n\u001b[1;32m    151\u001b[0m                             \u001b[0;34m' to have shape '\u001b[0m \u001b[0;34m+\u001b[0m \u001b[0mstr\u001b[0m\u001b[0;34m(\u001b[0m\u001b[0mshapes\u001b[0m\u001b[0;34m[\u001b[0m\u001b[0mi\u001b[0m\u001b[0;34m]\u001b[0m\u001b[0;34m)\u001b[0m \u001b[0;34m+\u001b[0m\u001b[0;34m\u001b[0m\u001b[0m\n\u001b[1;32m    152\u001b[0m                             \u001b[0;34m' but got array with shape '\u001b[0m \u001b[0;34m+\u001b[0m\u001b[0;34m\u001b[0m\u001b[0m\n\u001b[0;32m--> 153\u001b[0;31m                             str(array.shape))\n\u001b[0m\u001b[1;32m    154\u001b[0m     \u001b[0;32mreturn\u001b[0m \u001b[0marrays\u001b[0m\u001b[0;34m\u001b[0m\u001b[0m\n\u001b[1;32m    155\u001b[0m \u001b[0;34m\u001b[0m\u001b[0m\n",
      "\u001b[0;31mValueError\u001b[0m: Error when checking input: expected input_5 to have shape (None, None, None, 3) but got array with shape (60000, 28, 28, 1)"
     ]
    }
   ],
   "source": [
    "datagen = ImageDataGenerator(\n",
    "    featurewise_center=True,\n",
    "    featurewise_std_normalization=True,\n",
    "    rotation_range=20,\n",
    "    width_shift_range=0.2,\n",
    "    height_shift_range=0.2,\n",
    "    horizontal_flip=True)\n",
    "# compute quantities required for featurewise normalization\n",
    "# (std, mean, and principal components if ZCA whitening is applied)\n",
    "datagen.fit(x_train)\n",
    "batch_size=10\n",
    "u = datagen.flow(x_train, y_train, batch_size=32)\n",
    "\n",
    "model.fit(x=x_train, y=y_train, batch_size = batch_size, epochs = 3)"
   ]
  },
  {
   "cell_type": "code",
   "execution_count": null,
   "metadata": {},
   "outputs": [],
   "source": [
    "\n",
    "# train the model on the new data for a few epochs\n",
    "model.fit_generator(x=x_train)\n",
    "\n",
    "# at this point, the top layers are well trained and we can start fine-tuning\n",
    "# convolutional layers from inception V3. We will freeze the bottom N layers\n",
    "# and train the remaining top layers.\n",
    "\n",
    "# let's visualize layer names and layer indices to see how many layers\n",
    "# we should freeze:\n",
    "for i, layer in enumerate(base_model.layers):\n",
    "   print(i, layer.name)\n",
    "\n",
    "# we chose to train the top 2 inception blocks, i.e. we will freeze\n",
    "# the first 249 layers and unfreeze the rest:\n",
    "for layer in model.layers[:249]:\n",
    "   layer.trainable = False\n",
    "for layer in model.layers[249:]:\n",
    "   layer.trainable = True\n",
    "\n",
    "# we need to recompile the model for these modifications to take effect\n",
    "# we use SGD with a low learning rate\n",
    "from keras.optimizers import SGD\n",
    "model.compile(optimizer=SGD(lr=0.0001, momentum=0.9), loss='categorical_crossentropy')\n",
    "\n",
    "# we train our model again (this time fine-tuning the top 2 inception blocks\n",
    "# alongside the top Dense layers\n",
    "model.fit_generator(x_test)"
   ]
  },
  {
   "cell_type": "code",
   "execution_count": null,
   "metadata": {},
   "outputs": [],
   "source": [
    "import tensorflow as tf\n",
    "sess = tf.Session(config=tf.ConfigProto(log_device_placement=True))"
   ]
  },
  {
   "cell_type": "code",
   "execution_count": null,
   "metadata": {},
   "outputs": [],
   "source": [
    "# InceptionV3 for a new dataset\n",
    "\n",
    "# https://github.com/fchollet/deep-learning-models/releases/download/v0.1/\n",
    "# inception_v3_weights_tf_dim_ordering_tf_kernels.h5\n",
    "# inception_v3_weights_tf_dim_ordering_tf_kernels_notop.h5\n",
    "\n",
    "iv3_base_model = InceptionV3(weights='imagenet', include_top=False, input_shape=(140, 140, 3))\n",
    "x = iv3_base_model.output\n",
    "\n",
    "x = GlobalAveragePooling2D()(x)\n",
    "x = Dense(512, activation='relu')(x)\n",
    "\n",
    "y = Dense(3, activation='softmax')(x)\n",
    "\n",
    "iv3_model = Model(inputs=iv3_base_model.input, outputs=y)"
   ]
  },
  {
   "cell_type": "code",
   "execution_count": null,
   "metadata": {},
   "outputs": [],
   "source": [
    "# Unfreeze InceptionV3 convolutional layers \n",
    "for layer in iv3_model.layers[:173]:\n",
    "    layer.trainable = False\n",
    "for layer in iv3_model.layers[173:]:\n",
    "    layer.trainable = True\n",
    "    \n",
    "iv3_model.compile(optimizer='adam', loss='categorical_crossentropy', metrics=['accuracy'])     "
   ]
  },
  {
   "cell_type": "code",
   "execution_count": null,
   "metadata": {},
   "outputs": [],
   "source": [
    "from keras.preprocessing import image as keras_image\n",
    "steps, epochs = 200, 5\n",
    "data_generator = \\\n",
    "keras_image.ImageDataGenerator(shear_range=0.2, zoom_range=0.2, horizontal_flip=True)\n",
    "checkpointer = \\\n",
    "keras.callbacks.ModelCheckpoint(filepath='weights.best.iv3_model.hdf5', verbose=2, save_best_only=True)\n",
    "lr_reduction = \\\n",
    "keras.callbacks.ReduceLROnPlateau(monitor='val_loss', patience=5, verbose=2, factor=0.5)\n",
    "with tf.device('/gpu:0'):\n",
    "    history = iv3_model.fit_generator(data_generator.flow(x_train, y_train, batch_size=16), \n",
    "                                      steps_per_epoch = steps, epochs = epochs, \n",
    "                                      callbacks=[checkpointer, lr_reduction])\n",
    "                                      #validation_data = (x_test, y_test))"
   ]
  },
  {
   "cell_type": "code",
   "execution_count": null,
   "metadata": {},
   "outputs": [],
   "source": [
    "# Evaluate \n",
    "iv3_model.load_weights('weights.best.iv3_model.hdf5')\n",
    "iv3_test_scores = iv3_model.evaluate(x_test7, c_y_test7)\n",
    "print(\"Accuracy: %.2f%%\" % (iv3_test_scores[1]*100))"
   ]
  },
  {
   "cell_type": "code",
   "execution_count": null,
   "metadata": {},
   "outputs": [],
   "source": [
    "from IPython.display import SVG\n",
    "from keras.applications.inception_v3 import InceptionV3\n",
    "from keras.utils.vis_utils import model_to_dot\n",
    "inception_model = InceptionV3(weights='imagenet', include_top=False)\n",
    "SVG(model_to_dot(inception_model).create(prog='dot', format='svg'))"
   ]
  },
  {
   "cell_type": "code",
   "execution_count": null,
   "metadata": {},
   "outputs": [],
   "source": [
    "# check the layers by name\n",
    "for i,layer in enumerate(inception_model.layers):\n",
    "    print(i,layer.name)"
   ]
  },
  {
   "cell_type": "code",
   "execution_count": null,
   "metadata": {},
   "outputs": [],
   "source": [
    "## import random\n",
    "import cv2\n",
    "from keras.datasets import cifar10\n",
    "from keras.utils import to_categorical\n",
    "from keras.models import Model\n",
    "from keras.layers import Dense, GlobalAveragePooling2D, Dropout\n",
    "from keras.optimizers import SGD\n",
    "import numpy as np\n",
    "\n",
    "# read data\n",
    "(x_train, y_train), (x_test, y_test) = cifar10.load_data()\n",
    "print(x_train.shape)\n",
    "# limit the amount of the data\n",
    "# train data\n",
    "ind_train = random.sample(list(range(x_train.shape[0])), 2000)\n",
    "x_train = x_train[ind_train]\n",
    "y_train = y_train[ind_train]\n",
    "\n",
    "# test data\n",
    "ind_test = random.sample(list(range(x_test.shape[0])), 2000)\n",
    "x_test = x_test[ind_test]\n",
    "y_test = y_test[ind_test]\n",
    "\n",
    "def resize_data(data):\n",
    "    data_upscaled = np.zeros((data.shape[0], 140, 140, 3))\n",
    "    for i, img in enumerate(data):\n",
    "        large_img = cv2.resize(img, dsize=(140, 140), interpolation=cv2.INTER_CUBIC)\n",
    "        data_upscaled[i] = large_img\n",
    "\n",
    "    return data_upscaled\n",
    "\n"
   ]
  },
  {
   "cell_type": "code",
   "execution_count": null,
   "metadata": {},
   "outputs": [],
   "source": [
    "from keras.utils import to_categorical\n",
    "# resize train and  test data\n",
    "x_train_resized = (x_train)\n",
    "#x_test_resized = resize_data(x_test)\n",
    "\n",
    "# make explained variable hot-encoded\n",
    "y_train_hot_encoded = to_categorical(y_train)\n",
    "#y_test_hot_encoded = to_categorical(y_test)"
   ]
  },
  {
   "cell_type": "code",
   "execution_count": null,
   "metadata": {},
   "outputs": [],
   "source": [
    "inc_model = InceptionV3(weights='imagenet', include_top=False)\n",
    "\n",
    "# get layers and add average pooling layer\n",
    "x = inc_model.output\n",
    "x = GlobalAveragePooling2D()(x)\n",
    "\n",
    "# add fully-connected layer\n",
    "x = Dense(512, activation='relu')(x)\n",
    "\n",
    "# add output layer\n",
    "predictions = Dense(3, activation='softmax')(x)\n",
    "\n",
    "model = Model(inputs=inc_model.input, outputs=predictions)\n",
    "\n",
    "# freeze pre-trained model area's layer\n",
    "for layer in inc_model.layers:\n",
    "    layer.trainable = False\n",
    "\n",
    "# update the weight that are added\n",
    "model.compile(optimizer='rmsprop', loss='categorical_crossentropy')\n",
    "model.fit(x_train, y_train_hot_encoded)"
   ]
  },
  {
   "cell_type": "code",
   "execution_count": null,
   "metadata": {},
   "outputs": [],
   "source": [
    "from keras.optimizers import SGD"
   ]
  },
  {
   "cell_type": "code",
   "execution_count": null,
   "metadata": {},
   "outputs": [],
   "source": [
    "\n",
    "# choose the layers which are updated by training\n",
    "layer_num = len(model.layers)\n",
    "for layer in model.layers[:279]:\n",
    "    layer.trainable = False\n",
    "\n",
    "for layer in model.layers[279:]:\n",
    "    layer.trainable = True\n",
    "\n",
    "# training\n",
    "model.compile(optimizer=SGD(lr=0.01, momentum=0.9), loss='categorical_crossentropy', metrics=['accuracy'])\n",
    "history = model.fit(x_train_resized, y_train_hot_encoded, batch_size=128, epochs=5, shuffle=True,  validation_split=0.3)"
   ]
  },
  {
   "cell_type": "code",
   "execution_count": null,
   "metadata": {},
   "outputs": [],
   "source": [
    "import matplotlib.pyplot as plt\n",
    "def show_history(history):\n",
    "    plt.plot(history.history['acc'])\n",
    "    plt.plot(history.history['val_acc'])\n",
    "    plt.ylabel('accuracy')\n",
    "    plt.xlabel('epoch')\n",
    "    plt.legend(['train_accuracy', 'test_accuracy'], loc='best')\n",
    "    plt.show()\n",
    "\n",
    "show_history(history)"
   ]
  },
  {
   "cell_type": "code",
   "execution_count": null,
   "metadata": {},
   "outputs": [],
   "source": [
    "y_train_hot_encoded = to_categorical(y_test)\n",
    "x_test = np.reshape(to_rgb5(x_test), (len(x_test), 28,28, 3))"
   ]
  },
  {
   "cell_type": "code",
   "execution_count": null,
   "metadata": {},
   "outputs": [],
   "source": [
    "iv3_test_scores = model.evaluate(x_test, y_train_hot_encoded)\n",
    "print(\"Accuracy: %.2f%%\" % (iv3_test_scores[1]*100))"
   ]
  },
  {
   "cell_type": "code",
   "execution_count": null,
   "metadata": {},
   "outputs": [],
   "source": [
    "vectortoimg(x_train[1])"
   ]
  },
  {
   "cell_type": "code",
   "execution_count": null,
   "metadata": {},
   "outputs": [],
   "source": [
    "x_train[1].shape\n",
    "Orig = x_train"
   ]
  },
  {
   "cell_type": "code",
   "execution_count": null,
   "metadata": {},
   "outputs": [],
   "source": [
    "x_train = Orig"
   ]
  },
  {
   "cell_type": "markdown",
   "metadata": {},
   "source": [
    "x_train = np.reshape(x_train, (len(x_train), 28,28, 1))  # adapt this if using `channels_first` image data format\n",
    "x_train.shape"
   ]
  },
  {
   "cell_type": "code",
   "execution_count": null,
   "metadata": {},
   "outputs": [],
   "source": [
    "def to_rgb5(im):\n",
    "    im.resize((im.shape[0], im.shape[1], 1))\n",
    "    return np.repeat(im.astype(np.uint8), 3, 2)"
   ]
  },
  {
   "cell_type": "code",
   "execution_count": null,
   "metadata": {},
   "outputs": [],
   "source": [
    "to_rgb5(x_train).shape"
   ]
  },
  {
   "cell_type": "code",
   "execution_count": null,
   "metadata": {},
   "outputs": [],
   "source": [
    "x_train = np.reshape(to_rgb5(x_train), (len(x_train), 28,28, 3))"
   ]
  },
  {
   "cell_type": "code",
   "execution_count": null,
   "metadata": {},
   "outputs": [],
   "source": [
    "x_train.shape"
   ]
  },
  {
   "cell_type": "code",
   "execution_count": null,
   "metadata": {},
   "outputs": [],
   "source": [
    "def vectortoimg_3(v,show=True):\n",
    "    plt.imshow(v.reshape(28, 28,3),interpolation='None', cmap='gray')\n",
    "    plt.axis('off')\n",
    "    if show:\n",
    "        plt.show()"
   ]
  },
  {
   "cell_type": "code",
   "execution_count": null,
   "metadata": {},
   "outputs": [],
   "source": [
    "vectortoimg_3(x_train[1])"
   ]
  },
  {
   "cell_type": "code",
   "execution_count": null,
   "metadata": {},
   "outputs": [],
   "source": [
    "print(\"Checking multiple training vectors by plotting images.\\nBe patient:\")\n",
    "plt.close('all')\n",
    "fig = plt.figure(figsize=(10,10))\n",
    "nrows=15\n",
    "ncols=15\n",
    "for row in range(nrows):\n",
    "    for col in range(ncols):\n",
    "        plt.subplot(nrows, ncols, row*ncols+col + 1)\n",
    "        vectortoimg_3(x_train[np.random.randint(len(y_train))],show=False)\n",
    "plt.show()"
   ]
  },
  {
   "cell_type": "code",
   "execution_count": null,
   "metadata": {},
   "outputs": [],
   "source": [
    "def resize_data(data):\n",
    "    import cv2\n",
    "    data_upscaled = np.zeros((data.shape[0], 140, 140, 3))\n",
    "    for i, img in enumerate(data):\n",
    "        large_img = cv2.resize(img, dsize=(140, 140), interpolation=cv2.INTER_CUBIC)\n",
    "        data_upscaled[i] = large_img\n",
    "\n",
    "    return data_upscaled"
   ]
  },
  {
   "cell_type": "code",
   "execution_count": null,
   "metadata": {},
   "outputs": [],
   "source": [
    "x_train_temp = resize_data(x_train)"
   ]
  },
  {
   "cell_type": "code",
   "execution_count": null,
   "metadata": {},
   "outputs": [],
   "source": [
    "x_train_temp.shape"
   ]
  },
  {
   "cell_type": "code",
   "execution_count": null,
   "metadata": {},
   "outputs": [],
   "source": [
    "vectortoimg_3(x_train[1])"
   ]
  },
  {
   "cell_type": "code",
   "execution_count": null,
   "metadata": {},
   "outputs": [],
   "source": [
    "x_train = x_train_temp"
   ]
  },
  {
   "cell_type": "code",
   "execution_count": null,
   "metadata": {},
   "outputs": [],
   "source": [
    "y_train.shape"
   ]
  },
  {
   "cell_type": "code",
   "execution_count": null,
   "metadata": {},
   "outputs": [],
   "source": []
  }
 ],
 "metadata": {
  "kernelspec": {
   "display_name": "Python 3",
   "language": "python",
   "name": "python3"
  },
  "language_info": {
   "codemirror_mode": {
    "name": "ipython",
    "version": 2
   },
   "file_extension": ".py",
   "mimetype": "text/x-python",
   "name": "python",
   "nbconvert_exporter": "python",
   "pygments_lexer": "ipython2",
   "version": "2.7.12"
  },
  "widgets": {
   "state": {},
   "version": "1.1.2"
  }
 },
 "nbformat": 4,
 "nbformat_minor": 2
}
