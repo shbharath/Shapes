{
 "cells": [
  {
   "cell_type": "code",
   "execution_count": 1,
   "metadata": {},
   "outputs": [],
   "source": [
    "from proj_utils import *\n",
    "import os, struct\n",
    "import numpy as np\n",
    "import cv2\n",
    "from sklearn import preprocessing\n",
    "min_max_scaler = preprocessing.MinMaxScaler()"
   ]
  },
  {
   "cell_type": "code",
   "execution_count": 2,
   "metadata": {},
   "outputs": [],
   "source": [
    "data_path = os.path.join(os.path.curdir, 'data')\n",
    "x_train, y_train = load_NMNIST('training', digits=[0,1,2], path=data_path)\n",
    "x_test, y_test = load_NMNIST('testing', digits=[0,1,2], path=data_path)\n",
    "\n",
    "#x_train = np.reshape(x_train, (len(x_train), 28,28, 1))\n",
    "#x_test = np.reshape(x_test, (len(x_test), 28,28, 1))"
   ]
  },
  {
   "cell_type": "code",
   "execution_count": null,
   "metadata": {},
   "outputs": [],
   "source": [
    "def aug_img(img):\n",
    "    #img = np.reshape(img, (len(img), 28*28*1))\n",
    "    #img = min_max_scaler.fit_transform(img)\n",
    "    img = np.reshape(img, (len(img), 28,28, 1))\n",
    "    img = np.repeat(img, 3, 3)\n",
    "    img = resize_data(img)\n",
    "    return img.astype(uint8)"
   ]
  },
  {
   "cell_type": "code",
   "execution_count": null,
   "metadata": {},
   "outputs": [],
   "source": [
    "train_path = os.path.join(data_path, 'Train')\n",
    "test_path = os.path.join(data_path, 'Test')\n",
    "if not os.path.exists(train_path):\n",
    "    os.makedirs(train_path, exist_ok = True)\n",
    "if not os.path.exists(test_path):\n",
    "    os.makedirs(test_path,exist_ok=True)\n",
    "for i in range(3):\n",
    "    path = os.path.join(train_path, str(i))\n",
    "    if not os.path.exists(path):\n",
    "        os.makedirs(path)\n",
    "    path = os.path.join(test_path, str(i))\n",
    "    if not os.path.exists(path):\n",
    "        os.makedirs(path)"
   ]
  },
  {
   "cell_type": "code",
   "execution_count": 5,
   "metadata": {},
   "outputs": [
    {
     "name": "stdout",
     "output_type": "stream",
     "text": [
      "CPU times: user 7.94 s, sys: 5.89 s, total: 13.8 s\n",
      "Wall time: 13.9 s\n"
     ]
    }
   ],
   "source": [
    "%%time\n",
    "x_train = aug_img(x_train)"
   ]
  },
  {
   "cell_type": "code",
   "execution_count": 6,
   "metadata": {},
   "outputs": [
    {
     "name": "stdout",
     "output_type": "stream",
     "text": [
      "CPU times: user 1min 1s, sys: 1.74 s, total: 1min 2s\n",
      "Wall time: 1min 2s\n"
     ]
    }
   ],
   "source": [
    "%%time\n",
    "from scipy.misc import imsave\n",
    "for i in range(x_train.shape[0]):\n",
    "    label = y_train[i][0]\n",
    "    #print(label)\n",
    "    path = os.path.join(train_path, str(label), str(i)+'.png')\n",
    "    imsave(path, x_train[i])\n",
    "    #print(path)\n",
    "#x_train = None"
   ]
  },
  {
   "cell_type": "code",
   "execution_count": 7,
   "metadata": {},
   "outputs": [
    {
     "name": "stdout",
     "output_type": "stream",
     "text": [
      "CPU times: user 1.33 s, sys: 985 ms, total: 2.31 s\n",
      "Wall time: 2.32 s\n"
     ]
    }
   ],
   "source": [
    "%%time\n",
    "x_test = aug_img(x_test)"
   ]
  },
  {
   "cell_type": "code",
   "execution_count": 8,
   "metadata": {},
   "outputs": [
    {
     "name": "stdout",
     "output_type": "stream",
     "text": [
      "CPU times: user 8.77 s, sys: 311 ms, total: 9.08 s\n",
      "Wall time: 9.11 s\n"
     ]
    }
   ],
   "source": [
    "%%time\n",
    "for i in range(x_test.shape[0]):\n",
    "    label = y_test[i][0]\n",
    "    #print(label)\n",
    "    path = os.path.join(test_path, str(label), str(i)+'.png')\n",
    "    imsave(path, x_test[i])\n",
    "    #print(path)\n",
    "x_test = None"
   ]
  }
 ],
 "metadata": {
  "kernelspec": {
   "display_name": "Python 3",
   "language": "python",
   "name": "python3"
  },
  "language_info": {
   "codemirror_mode": {
    "name": "ipython",
    "version": 2
   },
   "file_extension": ".py",
   "mimetype": "text/x-python",
   "name": "python",
   "nbconvert_exporter": "python",
   "pygments_lexer": "ipython2",
   "version": "2.7.12"
  }
 },
 "nbformat": 4,
 "nbformat_minor": 2
}
