{
 "cells": [
  {
   "cell_type": "code",
   "execution_count": 1,
   "metadata": {},
   "outputs": [],
   "source": [
    "from proj_utils import *\n",
    "import os, struct\n",
    "import numpy as np"
   ]
  },
  {
   "cell_type": "code",
   "execution_count": 2,
   "metadata": {},
   "outputs": [],
   "source": [
    "path = os.path.join(os.path.curdir, 'data')\n",
    "x_train, y_train = load_NMNIST('training', digits=[0,1,2], path=path)\n",
    "x_test, y_test = load_NMNIST('testing', digits=[0,1,2], path=path)"
   ]
  },
  {
   "cell_type": "code",
   "execution_count": 3,
   "metadata": {},
   "outputs": [],
   "source": [
    "#_train = np.reshape(x_train, (len(x_train), 28,28, 1))  # adapt this if using `channels_first` image data format\n",
    "def aug_img(img):\n",
    "    img = np.repeat(img.astype(np.uint8), 3, 2)\n",
    "    img = np.reshape(img, (len(img), 28,28, 3))\n",
    "    img = resize_data(img)\n",
    "    return img"
   ]
  },
  {
   "cell_type": "code",
   "execution_count": 4,
   "metadata": {},
   "outputs": [
    {
     "data": {
      "text/plain": [
       "(60000, 140, 140, 3)"
      ]
     },
     "execution_count": 4,
     "metadata": {},
     "output_type": "execute_result"
    }
   ],
   "source": [
    "x_train = aug_img(x_train)\n",
    "x_train.shape"
   ]
  },
  {
   "cell_type": "code",
   "execution_count": 5,
   "metadata": {},
   "outputs": [
    {
     "name": "stderr",
     "output_type": "stream",
     "text": [
      "/usr/local/lib/python2.7/dist-packages/h5py/__init__.py:36: FutureWarning: Conversion of the second argument of issubdtype from `float` to `np.floating` is deprecated. In future, it will be treated as `np.float64 == np.dtype(float).type`.\n",
      "  from ._conv import register_converters as _register_converters\n",
      "Using TensorFlow backend.\n"
     ]
    }
   ],
   "source": [
    "import cv2\n",
    "from keras.datasets import cifar10\n",
    "from keras.utils import to_categorical\n",
    "from keras.models import Model\n",
    "from keras.layers import Dense, GlobalAveragePooling2D, Dropout\n",
    "from keras.optimizers import SGD\n",
    "import numpy as np\n",
    "from IPython.display import SVG\n",
    "from keras.applications.inception_v3 import InceptionV3\n",
    "from keras.utils.vis_utils import model_to_dot"
   ]
  },
  {
   "cell_type": "code",
   "execution_count": 6,
   "metadata": {},
   "outputs": [
    {
     "data": {
      "text/plain": [
       "(60000, 3)"
      ]
     },
     "execution_count": 6,
     "metadata": {},
     "output_type": "execute_result"
    }
   ],
   "source": [
    "y_train = to_categorical(y_train)\n",
    "y_train.shape"
   ]
  },
  {
   "cell_type": "code",
   "execution_count": 7,
   "metadata": {},
   "outputs": [
    {
     "name": "stdout",
     "output_type": "stream",
     "text": [
      "WARNING:tensorflow:From /usr/local/lib/python2.7/dist-packages/keras/backend/tensorflow_backend.py:1349: calling reduce_mean (from tensorflow.python.ops.math_ops) with keep_dims is deprecated and will be removed in a future version.\n",
      "Instructions for updating:\n",
      "keep_dims is deprecated, use keepdims instead\n"
     ]
    }
   ],
   "source": [
    "inc_model = InceptionV3(weights='imagenet', include_top=False)\n",
    "\n",
    "# get layers and add average pooling layer\n",
    "x = inc_model.output\n",
    "x = GlobalAveragePooling2D()(x)\n",
    "\n",
    "# add fully-connected layer\n",
    "x = Dense(512, activation='relu')(x)\n",
    "\n",
    "# add output layer\n",
    "predictions = Dense(3, activation='softmax')(x)\n",
    "\n",
    "model = Model(inputs=inc_model.input, outputs=predictions)\n",
    "\n",
    "# freeze pre-trained model area's layer\n",
    "for layer in inc_model.layers:\n",
    "    layer.trainable = False\n",
    "\n"
   ]
  },
  {
   "cell_type": "markdown",
   "metadata": {},
   "source": [
    "# update the weight that are added\n",
    "model.compile(optimizer='rmsprop', loss='categorical_crossentropy')\n",
    "model.fit(x_train, y_train)"
   ]
  },
  {
   "cell_type": "code",
   "execution_count": null,
   "metadata": {},
   "outputs": [],
   "source": []
  },
  {
   "cell_type": "code",
   "execution_count": 8,
   "metadata": {},
   "outputs": [
    {
     "name": "stdout",
     "output_type": "stream",
     "text": [
      "WARNING:tensorflow:From /usr/local/lib/python2.7/dist-packages/keras/backend/tensorflow_backend.py:2885: calling reduce_sum (from tensorflow.python.ops.math_ops) with keep_dims is deprecated and will be removed in a future version.\n",
      "Instructions for updating:\n",
      "keep_dims is deprecated, use keepdims instead\n",
      "Train on 57000 samples, validate on 3000 samples\n",
      "Epoch 1/5\n",
      "57000/57000 [==============================] - 86s 2ms/step - loss: 0.0639 - acc: 0.9845 - val_loss: 0.0059 - val_acc: 0.9997\n",
      "Epoch 2/5\n",
      "57000/57000 [==============================] - 82s 1ms/step - loss: 0.0051 - acc: 0.9995 - val_loss: 0.0021 - val_acc: 1.0000\n",
      "Epoch 3/5\n",
      "57000/57000 [==============================] - 82s 1ms/step - loss: 0.0028 - acc: 0.9998 - val_loss: 0.0012 - val_acc: 1.0000\n",
      "Epoch 4/5\n",
      "57000/57000 [==============================] - 83s 1ms/step - loss: 0.0020 - acc: 0.9999 - val_loss: 8.0928e-04 - val_acc: 1.0000\n",
      "Epoch 5/5\n",
      "57000/57000 [==============================] - 83s 1ms/step - loss: 0.0014 - acc: 0.9999 - val_loss: 6.2528e-04 - val_acc: 1.0000\n"
     ]
    }
   ],
   "source": [
    "# choose the layers which are updated by training\n",
    "layer_num = len(model.layers)\n",
    "for layer in model.layers[:279]:\n",
    "    layer.trainable = False\n",
    "\n",
    "for layer in model.layers[279:]:\n",
    "    layer.trainable = True\n",
    "\n",
    "# training\n",
    "model.compile(optimizer=SGD(lr=0.001, momentum=0.9), loss='categorical_crossentropy', metrics=['accuracy'])\n",
    "history = model.fit(x_train, y_train, batch_size=128, epochs=5, shuffle=True,  validation_split=0.05)"
   ]
  },
  {
   "cell_type": "code",
   "execution_count": 9,
   "metadata": {},
   "outputs": [
    {
     "data": {
      "image/png": "[encoded data removed]",
      "text/plain": [
       "<matplotlib.figure.Figure at 0x7f492f9fba50>"
      ]
     },
     "metadata": {},
     "output_type": "display_data"
    }
   ],
   "source": [
    "import matplotlib.pyplot as plt\n",
    "def show_history(history):\n",
    "    plt.plot(history.history['acc'])\n",
    "    plt.plot(history.history['val_acc'])\n",
    "    plt.ylabel('accuracy')\n",
    "    plt.xlabel('epoch')\n",
    "    plt.legend(['train_accuracy', 'test_accuracy'], loc='best')\n",
    "    plt.show()\n",
    "\n",
    "show_history(history)"
   ]
  },
  {
   "cell_type": "code",
   "execution_count": 10,
   "metadata": {},
   "outputs": [],
   "source": [
    "x_train = y_train = None\n",
    "x_test = aug_img(x_test)\n",
    "y_test = to_categorical(y_test)"
   ]
  },
  {
   "cell_type": "code",
   "execution_count": 11,
   "metadata": {},
   "outputs": [
    {
     "name": "stdout",
     "output_type": "stream",
     "text": [
      "10000/10000 [==============================] - 18s 2ms/step\n",
      "Accuracy: 86.84%\n"
     ]
    }
   ],
   "source": [
    "iv3_test_scores = model.evaluate(x_test, y_test, verbose=1)\n",
    "print(\"Accuracy: %.2f%%\" % (iv3_test_scores[1]*100))"
   ]
  }
 ],
 "metadata": {
  "kernelspec": {
   "display_name": "Python 3",
   "language": "python",
   "name": "python3"
  },
  "language_info": {
   "codemirror_mode": {
    "name": "ipython",
    "version": 2
   },
   "file_extension": ".py",
   "mimetype": "text/x-python",
   "name": "python",
   "nbconvert_exporter": "python",
   "pygments_lexer": "ipython2",
   "version": "2.7.12"
  }
 },
 "nbformat": 4,
 "nbformat_minor": 2
}
