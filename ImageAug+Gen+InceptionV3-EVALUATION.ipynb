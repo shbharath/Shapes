{
 "cells": [
  {
   "cell_type": "code",
   "execution_count": 1,
   "metadata": {},
   "outputs": [],
   "source": [
    "from proj_utils import *\n",
    "import os, struct\n",
    "import numpy as np\n",
    "import cv2"
   ]
  },
  {
   "cell_type": "code",
   "execution_count": 2,
   "metadata": {},
   "outputs": [
    {
     "name": "stderr",
     "output_type": "stream",
     "text": [
      "/usr/local/lib/python2.7/dist-packages/h5py/__init__.py:36: FutureWarning: Conversion of the second argument of issubdtype from `float` to `np.floating` is deprecated. In future, it will be treated as `np.float64 == np.dtype(float).type`.\n",
      "  from ._conv import register_converters as _register_converters\n",
      "Using TensorFlow backend.\n"
     ]
    }
   ],
   "source": [
    "from keras.datasets import cifar10\n",
    "from keras.utils import to_categorical\n",
    "from keras.models import Model\n",
    "from keras.layers import Dense, GlobalAveragePooling2D, Dropout\n",
    "from keras.optimizers import SGD\n",
    "import numpy as np\n",
    "from IPython.display import SVG\n",
    "from keras.applications.inception_v3 import InceptionV3\n",
    "from keras.utils.vis_utils import model_to_dot"
   ]
  },
  {
   "cell_type": "code",
   "execution_count": 3,
   "metadata": {},
   "outputs": [],
   "source": [
    "path = os.path.join(os.path.curdir, 'data')\n",
    "#x_train, y_train = load_NMNIST('training', digits=[0,1,2], path=path)\n",
    "x_test, y_test = load_NMNIST('testing', digits=[0,1,2], path=path)\n",
    "\n",
    "#x_train = np.reshape(x_train, (len(x_train), 28,28, 1))\n",
    "x_test = np.reshape(x_test, (len(x_test), 28,28, 1))\n",
    "\n",
    "#y_train = to_categorical(y_train)\n",
    "y_test = to_categorical(y_test)"
   ]
  },
  {
   "cell_type": "code",
   "execution_count": 4,
   "metadata": {},
   "outputs": [],
   "source": [
    "from sklearn import preprocessing\n",
    "min_max_scaler = preprocessing.MinMaxScaler()\n",
    "\n",
    "def aug_img(img):\n",
    "    #img = np.reshape(img, (len(img), 28*28*1))\n",
    "    #img = min_max_scaler.fit_transform(img)\n",
    "    img = np.reshape(img, (len(img), 28,28, 1))\n",
    "    img = np.repeat(img, 3, 3)\n",
    "    img = resize_data(img)\n",
    "    return img.astype(uint8)"
   ]
  },
  {
   "cell_type": "code",
   "execution_count": 5,
   "metadata": {},
   "outputs": [],
   "source": [
    "#x_train = aug_img(x_train)\n",
    "x_test = aug_img(x_test)"
   ]
  },
  {
   "cell_type": "code",
   "execution_count": 6,
   "metadata": {},
   "outputs": [],
   "source": [
    "from keras.preprocessing.image import ImageDataGenerator"
   ]
  },
  {
   "cell_type": "code",
   "execution_count": 7,
   "metadata": {},
   "outputs": [],
   "source": [
    "val_gen_args = dict(#featurewise_center=True,\n",
    "                     #featurewise_std_normalization=True,\n",
    "                     #zca_whitening = True,\n",
    "                     #rotation_range=360,\n",
    "                     #width_shift_range=0.2,\n",
    "                     #height_shift_range=0.2,\n",
    "                     rescale=1./255,\n",
    "                     #shear_range=0.2,\n",
    "                     #zoom_range=0.2,\n",
    "                     #horizontal_flip=True,\n",
    "                     #vertical_flip=True,\n",
    "                     #preprocessing_function=aug_img,\n",
    "                     fill_mode='nearest')"
   ]
  },
  {
   "cell_type": "code",
   "execution_count": 8,
   "metadata": {},
   "outputs": [
    {
     "name": "stdout",
     "output_type": "stream",
     "text": [
      "WARNING:tensorflow:From /usr/local/lib/python2.7/dist-packages/keras/backend/tensorflow_backend.py:1349: calling reduce_mean (from tensorflow.python.ops.math_ops) with keep_dims is deprecated and will be removed in a future version.\n",
      "Instructions for updating:\n",
      "keep_dims is deprecated, use keepdims instead\n"
     ]
    }
   ],
   "source": [
    "inc_model = InceptionV3(weights='imagenet', include_top=False, input_shape=(140, 140, 3))\n",
    "\n",
    "# get layers and add average pooling layer\n",
    "x = inc_model.output\n",
    "x = GlobalAveragePooling2D()(x)\n",
    "\n",
    "# add fully-connected layer\n",
    "#x = Dense(512, activation='relu')(x)\n",
    "#x = Dense(256, activation='relu')(x)\n",
    "#x = Dense(128, activation='relu')(x)\n",
    "#x = Dense(64, activation='relu')(x)\n",
    "#x = Dense(32, activation='relu')(x)\n",
    "#x = Dense(16, activation='relu')(x)\n",
    "\n",
    "# add output layer\n",
    "predictions = Dense(3, activation='softmax')(x)\n",
    "\n",
    "model = Model(inputs=inc_model.input, outputs=predictions)\n",
    "\n",
    "# freeze pre-trained model area's layer\n",
    "for layer in inc_model.layers:\n",
    "    layer.trainable = False"
   ]
  },
  {
   "cell_type": "code",
   "execution_count": 9,
   "metadata": {},
   "outputs": [
    {
     "name": "stdout",
     "output_type": "stream",
     "text": [
      "WARNING:tensorflow:From /usr/local/lib/python2.7/dist-packages/keras/backend/tensorflow_backend.py:2885: calling reduce_sum (from tensorflow.python.ops.math_ops) with keep_dims is deprecated and will be removed in a future version.\n",
      "Instructions for updating:\n",
      "keep_dims is deprecated, use keepdims instead\n"
     ]
    }
   ],
   "source": [
    "# choose the layers which are updated by training\n",
    "layer_num = len(model.layers)\n",
    "for layer in model.layers[:279]:\n",
    "    layer.trainable = False\n",
    "\n",
    "for layer in model.layers[279:]:\n",
    "    layer.trainable = True\n",
    "\n",
    "# training\n",
    "model.compile(optimizer=SGD(lr=0.001, momentum=0.5), loss='categorical_crossentropy', metrics=['accuracy'])"
   ]
  },
  {
   "cell_type": "code",
   "execution_count": 10,
   "metadata": {},
   "outputs": [],
   "source": [
    "test_datagen = ImageDataGenerator(**val_gen_args)\n",
    "validation_generator = test_datagen.flow(x_test, y_test)"
   ]
  },
  {
   "cell_type": "code",
   "execution_count": 11,
   "metadata": {},
   "outputs": [
    {
     "name": "stdout",
     "output_type": "stream",
     "text": [
      "Accuracy: 99.57%\n"
     ]
    }
   ],
   "source": [
    "checkpoint_filename = 'InceptionV3.best_weights.hdf5'\n",
    "model.load_weights(checkpoint_filename)\n",
    "iv3_test_scores = model.evaluate_generator(validation_generator)\n",
    "print(\"Accuracy: %.2f%%\" % (iv3_test_scores[1]*100))"
   ]
  },
  {
   "cell_type": "code",
   "execution_count": null,
   "metadata": {},
   "outputs": [],
   "source": []
  }
 ],
 "metadata": {
  "kernelspec": {
   "display_name": "Python 3",
   "language": "python",
   "name": "python3"
  },
  "language_info": {
   "codemirror_mode": {
    "name": "ipython",
    "version": 2
   },
   "file_extension": ".py",
   "mimetype": "text/x-python",
   "name": "python",
   "nbconvert_exporter": "python",
   "pygments_lexer": "ipython2",
   "version": "2.7.12"
  }
 },
 "nbformat": 4,
 "nbformat_minor": 2
}
